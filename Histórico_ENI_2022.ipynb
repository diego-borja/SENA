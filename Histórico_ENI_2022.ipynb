{
  "cells": [
    {
      "cell_type": "markdown",
      "metadata": {
        "id": "view-in-github",
        "colab_type": "text"
      },
      "source": [
        "<a href=\"https://colab.research.google.com/github/diego-borja/SENA/blob/main/Hist%C3%B3rico_ENI_2022.ipynb\" target=\"_parent\"><img src=\"https://colab.research.google.com/assets/colab-badge.svg\" alt=\"Open In Colab\"/></a>"
      ]
    },
    {
      "cell_type": "code",
      "execution_count": 2,
      "id": "E0cBpj-VPIZT",
      "metadata": {
        "colab": {
          "base_uri": "https://localhost:8080/"
        },
        "id": "E0cBpj-VPIZT",
        "outputId": "0643c44a-5c59-46a9-91bc-562bf80fa68d",
        "tags": []
      },
      "outputs": [
        {
          "output_type": "stream",
          "name": "stdout",
          "text": [
            "Mounted at /content/drive\n"
          ]
        }
      ],
      "source": [
        "from google.colab import drive\n",
        "drive.mount('/content/drive')"
      ]
    },
    {
      "cell_type": "markdown",
      "source": [
        "## **1. Cargue de los datos**"
      ],
      "metadata": {
        "id": "nXCMz_Y27RF0"
      },
      "id": "nXCMz_Y27RF0"
    },
    {
      "cell_type": "code",
      "execution_count": 3,
      "id": "78d5fc75-4031-480f-86ca-e3c91a2fa21e",
      "metadata": {
        "colab": {
          "base_uri": "https://localhost:8080/"
        },
        "id": "78d5fc75-4031-480f-86ca-e3c91a2fa21e",
        "outputId": "de04293d-9901-40f6-c307-a8caef4b90b9"
      },
      "outputs": [
        {
          "output_type": "stream",
          "name": "stderr",
          "text": [
            "/usr/local/lib/python3.7/dist-packages/openpyxl/worksheet/_reader.py:312: UserWarning: Data Validation extension is not supported and will be removed\n",
            "  warn(msg)\n"
          ]
        }
      ],
      "source": [
        "import pandas as pd\n",
        "#Leer archivo csv\n",
        "historico_xlsx = '/content/drive/MyDrive/ESTADÍSTICA/Jupyter/Colab_Notebooks/SENA/Histórico_ENI_ 2022.xlsx'\n",
        "alfabetico_xlsx = '/content/drive/MyDrive/ESTADÍSTICA/Jupyter/Colab_Notebooks/SENA/ALFABÉTICO_INSTRUCTORES_PLANTA_2022.xlsx'\n",
        "#Datos = 'Histórico_ENI_ 2022.xlsx'\n",
        "historico_completo = pd.read_excel(historico_xlsx, 'CAPACITACIONES REGIONALES')\n",
        "alfabetico_completo = pd.read_excel(alfabetico_xlsx)\n",
        "#df = pd.read_excel('FileName.xlsx', 'SheetName')"
      ]
    },
    {
      "cell_type": "markdown",
      "source": [
        "## **2. Selección de columnas**"
      ],
      "metadata": {
        "id": "0wzPda4F7cvH"
      },
      "id": "0wzPda4F7cvH"
    },
    {
      "cell_type": "code",
      "source": [
        "historico_completo.columns"
      ],
      "metadata": {
        "colab": {
          "base_uri": "https://localhost:8080/"
        },
        "id": "6ivBanoOSCQy",
        "outputId": "7f90c69d-fcc9-4052-8e9a-86e354863b58"
      },
      "id": "6ivBanoOSCQy",
      "execution_count": 4,
      "outputs": [
        {
          "output_type": "execute_result",
          "data": {
            "text/plain": [
              "Index(['N°', 'Fecha de Registro', 'N° Cédula del Participante',\n",
              "       'Nombres y Apellidos del Participante', 'ID Regional del Participante',\n",
              "       'Regional del Participante', 'ID Área/Dependencia del Asistente',\n",
              "       'Centro ', 'Correo electrónico del Participante ',\n",
              "       'Tipo de Vinculación del Participante', 'SEXO', 'Cargo del Asistente',\n",
              "       'Red de Conocimiento', 'Àrea Temática', 'Tema de Capacitación',\n",
              "       'COMPETENCIA DEL PIC', 'Entidad Capacitadora', 'Nombre Formador SENA',\n",
              "       'Tipo', 'Horas de Capacitación', 'Horario de Capacitaciòn',\n",
              "       'Fecha Inicio Capacitación', 'Fecha Fin Capacitación',\n",
              "       'Pais de la Capacitación', 'Ciudad de la Capacitación ',\n",
              "       'Modalidad de Capacitación', 'Tipo de Capacitación',\n",
              "       'Clase de la Capacitación', 'Línea tecnologica', 'Acta de Compromiso',\n",
              "       'Observaciones', 'Asesor/Solicito', 'Certificado',\n",
              "       'Justificación de inasistencia o no certificación', 'Código',\n",
              "       'Código de Capacitación',\n",
              "       'Evaluación reacción y satisfacción de la Capacitación',\n",
              "       'Evaluación impacto', 'Fecha Vencimiento Evaluación GTH-F-300'],\n",
              "      dtype='object')"
            ]
          },
          "metadata": {},
          "execution_count": 4
        }
      ]
    },
    {
      "cell_type": "code",
      "source": [
        "historico = historico_completo[['Fecha de Registro', 'N° Cédula del Participante',\n",
        "       'Nombres y Apellidos del Participante','Entidad Capacitadora','Fecha Inicio Capacitación',\n",
        "       'Modalidad de Capacitación', 'Tipo de Capacitación','Clase de la Capacitación',\n",
        "       'Certificado','Justificación de inasistencia o no certificación','Código de Capacitación']]"
      ],
      "metadata": {
        "id": "9a6fPvhbXDRr"
      },
      "id": "9a6fPvhbXDRr",
      "execution_count": 18,
      "outputs": []
    },
    {
      "cell_type": "code",
      "execution_count": 6,
      "id": "FmcYTcgokIwz",
      "metadata": {
        "colab": {
          "base_uri": "https://localhost:8080/",
          "height": 458
        },
        "id": "FmcYTcgokIwz",
        "outputId": "955ab95c-cb1b-47db-c12f-6505217d4261"
      },
      "outputs": [
        {
          "output_type": "execute_result",
          "data": {
            "text/plain": [
              "  Fecha de Registro N° Cédula del Participante  \\\n",
              "0        2022-02-02                   72005788   \n",
              "1        2022-02-02                   55235464   \n",
              "2        2022-02-02                   32799317   \n",
              "3        2022-02-02                    9274281   \n",
              "4        2022-02-02                   73097515   \n",
              "\n",
              "  Nombres y Apellidos del Participante Entidad Capacitadora  \\\n",
              "0          Ariza Arnedo Jhonny Alberto   THE SIEMON COMPANY   \n",
              "1                Jimenez Roa Luz Elena   THE SIEMON COMPANY   \n",
              "2     Carrillo Valderrama Paola Andrea   THE SIEMON COMPANY   \n",
              "3                Benjumea Acuña Nilson   THE SIEMON COMPANY   \n",
              "4         Hoyos Hoyos  Marceliano Jose   THE SIEMON COMPANY   \n",
              "\n",
              "  Fecha Inicio Capacitación Modalidad de Capacitación Tipo de Capacitación  \\\n",
              "0                2022-02-14                PRESENCIAL              TÉCNICA   \n",
              "1                2022-02-14                PRESENCIAL              TÉCNICA   \n",
              "2                2022-02-14                PRESENCIAL              TÉCNICA   \n",
              "3                2022-02-14                PRESENCIAL              TÉCNICA   \n",
              "4                2022-02-14                PRESENCIAL              TÉCNICA   \n",
              "\n",
              "  Clase de la Capacitación Certificado  \\\n",
              "0                    CURSO          SI   \n",
              "1                    CURSO          SI   \n",
              "2                    CURSO          SI   \n",
              "3                    CURSO          SI   \n",
              "4                    CURSO          SI   \n",
              "\n",
              "  Justificación de inasistencia o no certificación  \\\n",
              "0                                              NaN   \n",
              "1                                              NaN   \n",
              "2                                              NaN   \n",
              "3                                              NaN   \n",
              "4                                              NaN   \n",
              "\n",
              "                              Código de Capacitación  \n",
              "0  TÉ140222 DISEÑO Y PRÁCTICAS DE INSTALACIÓN PAR...  \n",
              "1  TÉ140222 DISEÑO Y PRÁCTICAS DE INSTALACIÓN PAR...  \n",
              "2  TÉ140222 DISEÑO Y PRÁCTICAS DE INSTALACIÓN PAR...  \n",
              "3  TÉ140222 DISEÑO Y PRÁCTICAS DE INSTALACIÓN PAR...  \n",
              "4  TÉ140222 DISEÑO Y PRÁCTICAS DE INSTALACIÓN PAR...  "
            ],
            "text/html": [
              "\n",
              "  <div id=\"df-f50850ef-f909-4402-ba59-d3272d7cae39\">\n",
              "    <div class=\"colab-df-container\">\n",
              "      <div>\n",
              "<style scoped>\n",
              "    .dataframe tbody tr th:only-of-type {\n",
              "        vertical-align: middle;\n",
              "    }\n",
              "\n",
              "    .dataframe tbody tr th {\n",
              "        vertical-align: top;\n",
              "    }\n",
              "\n",
              "    .dataframe thead th {\n",
              "        text-align: right;\n",
              "    }\n",
              "</style>\n",
              "<table border=\"1\" class=\"dataframe\">\n",
              "  <thead>\n",
              "    <tr style=\"text-align: right;\">\n",
              "      <th></th>\n",
              "      <th>Fecha de Registro</th>\n",
              "      <th>N° Cédula del Participante</th>\n",
              "      <th>Nombres y Apellidos del Participante</th>\n",
              "      <th>Entidad Capacitadora</th>\n",
              "      <th>Fecha Inicio Capacitación</th>\n",
              "      <th>Modalidad de Capacitación</th>\n",
              "      <th>Tipo de Capacitación</th>\n",
              "      <th>Clase de la Capacitación</th>\n",
              "      <th>Certificado</th>\n",
              "      <th>Justificación de inasistencia o no certificación</th>\n",
              "      <th>Código de Capacitación</th>\n",
              "    </tr>\n",
              "  </thead>\n",
              "  <tbody>\n",
              "    <tr>\n",
              "      <th>0</th>\n",
              "      <td>2022-02-02</td>\n",
              "      <td>72005788</td>\n",
              "      <td>Ariza Arnedo Jhonny Alberto</td>\n",
              "      <td>THE SIEMON COMPANY</td>\n",
              "      <td>2022-02-14</td>\n",
              "      <td>PRESENCIAL</td>\n",
              "      <td>TÉCNICA</td>\n",
              "      <td>CURSO</td>\n",
              "      <td>SI</td>\n",
              "      <td>NaN</td>\n",
              "      <td>TÉ140222 DISEÑO Y PRÁCTICAS DE INSTALACIÓN PAR...</td>\n",
              "    </tr>\n",
              "    <tr>\n",
              "      <th>1</th>\n",
              "      <td>2022-02-02</td>\n",
              "      <td>55235464</td>\n",
              "      <td>Jimenez Roa Luz Elena</td>\n",
              "      <td>THE SIEMON COMPANY</td>\n",
              "      <td>2022-02-14</td>\n",
              "      <td>PRESENCIAL</td>\n",
              "      <td>TÉCNICA</td>\n",
              "      <td>CURSO</td>\n",
              "      <td>SI</td>\n",
              "      <td>NaN</td>\n",
              "      <td>TÉ140222 DISEÑO Y PRÁCTICAS DE INSTALACIÓN PAR...</td>\n",
              "    </tr>\n",
              "    <tr>\n",
              "      <th>2</th>\n",
              "      <td>2022-02-02</td>\n",
              "      <td>32799317</td>\n",
              "      <td>Carrillo Valderrama Paola Andrea</td>\n",
              "      <td>THE SIEMON COMPANY</td>\n",
              "      <td>2022-02-14</td>\n",
              "      <td>PRESENCIAL</td>\n",
              "      <td>TÉCNICA</td>\n",
              "      <td>CURSO</td>\n",
              "      <td>SI</td>\n",
              "      <td>NaN</td>\n",
              "      <td>TÉ140222 DISEÑO Y PRÁCTICAS DE INSTALACIÓN PAR...</td>\n",
              "    </tr>\n",
              "    <tr>\n",
              "      <th>3</th>\n",
              "      <td>2022-02-02</td>\n",
              "      <td>9274281</td>\n",
              "      <td>Benjumea Acuña Nilson</td>\n",
              "      <td>THE SIEMON COMPANY</td>\n",
              "      <td>2022-02-14</td>\n",
              "      <td>PRESENCIAL</td>\n",
              "      <td>TÉCNICA</td>\n",
              "      <td>CURSO</td>\n",
              "      <td>SI</td>\n",
              "      <td>NaN</td>\n",
              "      <td>TÉ140222 DISEÑO Y PRÁCTICAS DE INSTALACIÓN PAR...</td>\n",
              "    </tr>\n",
              "    <tr>\n",
              "      <th>4</th>\n",
              "      <td>2022-02-02</td>\n",
              "      <td>73097515</td>\n",
              "      <td>Hoyos Hoyos  Marceliano Jose</td>\n",
              "      <td>THE SIEMON COMPANY</td>\n",
              "      <td>2022-02-14</td>\n",
              "      <td>PRESENCIAL</td>\n",
              "      <td>TÉCNICA</td>\n",
              "      <td>CURSO</td>\n",
              "      <td>SI</td>\n",
              "      <td>NaN</td>\n",
              "      <td>TÉ140222 DISEÑO Y PRÁCTICAS DE INSTALACIÓN PAR...</td>\n",
              "    </tr>\n",
              "  </tbody>\n",
              "</table>\n",
              "</div>\n",
              "      <button class=\"colab-df-convert\" onclick=\"convertToInteractive('df-f50850ef-f909-4402-ba59-d3272d7cae39')\"\n",
              "              title=\"Convert this dataframe to an interactive table.\"\n",
              "              style=\"display:none;\">\n",
              "        \n",
              "  <svg xmlns=\"http://www.w3.org/2000/svg\" height=\"24px\"viewBox=\"0 0 24 24\"\n",
              "       width=\"24px\">\n",
              "    <path d=\"M0 0h24v24H0V0z\" fill=\"none\"/>\n",
              "    <path d=\"M18.56 5.44l.94 2.06.94-2.06 2.06-.94-2.06-.94-.94-2.06-.94 2.06-2.06.94zm-11 1L8.5 8.5l.94-2.06 2.06-.94-2.06-.94L8.5 2.5l-.94 2.06-2.06.94zm10 10l.94 2.06.94-2.06 2.06-.94-2.06-.94-.94-2.06-.94 2.06-2.06.94z\"/><path d=\"M17.41 7.96l-1.37-1.37c-.4-.4-.92-.59-1.43-.59-.52 0-1.04.2-1.43.59L10.3 9.45l-7.72 7.72c-.78.78-.78 2.05 0 2.83L4 21.41c.39.39.9.59 1.41.59.51 0 1.02-.2 1.41-.59l7.78-7.78 2.81-2.81c.8-.78.8-2.07 0-2.86zM5.41 20L4 18.59l7.72-7.72 1.47 1.35L5.41 20z\"/>\n",
              "  </svg>\n",
              "      </button>\n",
              "      \n",
              "  <style>\n",
              "    .colab-df-container {\n",
              "      display:flex;\n",
              "      flex-wrap:wrap;\n",
              "      gap: 12px;\n",
              "    }\n",
              "\n",
              "    .colab-df-convert {\n",
              "      background-color: #E8F0FE;\n",
              "      border: none;\n",
              "      border-radius: 50%;\n",
              "      cursor: pointer;\n",
              "      display: none;\n",
              "      fill: #1967D2;\n",
              "      height: 32px;\n",
              "      padding: 0 0 0 0;\n",
              "      width: 32px;\n",
              "    }\n",
              "\n",
              "    .colab-df-convert:hover {\n",
              "      background-color: #E2EBFA;\n",
              "      box-shadow: 0px 1px 2px rgba(60, 64, 67, 0.3), 0px 1px 3px 1px rgba(60, 64, 67, 0.15);\n",
              "      fill: #174EA6;\n",
              "    }\n",
              "\n",
              "    [theme=dark] .colab-df-convert {\n",
              "      background-color: #3B4455;\n",
              "      fill: #D2E3FC;\n",
              "    }\n",
              "\n",
              "    [theme=dark] .colab-df-convert:hover {\n",
              "      background-color: #434B5C;\n",
              "      box-shadow: 0px 1px 3px 1px rgba(0, 0, 0, 0.15);\n",
              "      filter: drop-shadow(0px 1px 2px rgba(0, 0, 0, 0.3));\n",
              "      fill: #FFFFFF;\n",
              "    }\n",
              "  </style>\n",
              "\n",
              "      <script>\n",
              "        const buttonEl =\n",
              "          document.querySelector('#df-f50850ef-f909-4402-ba59-d3272d7cae39 button.colab-df-convert');\n",
              "        buttonEl.style.display =\n",
              "          google.colab.kernel.accessAllowed ? 'block' : 'none';\n",
              "\n",
              "        async function convertToInteractive(key) {\n",
              "          const element = document.querySelector('#df-f50850ef-f909-4402-ba59-d3272d7cae39');\n",
              "          const dataTable =\n",
              "            await google.colab.kernel.invokeFunction('convertToInteractive',\n",
              "                                                     [key], {});\n",
              "          if (!dataTable) return;\n",
              "\n",
              "          const docLinkHtml = 'Like what you see? Visit the ' +\n",
              "            '<a target=\"_blank\" href=https://colab.research.google.com/notebooks/data_table.ipynb>data table notebook</a>'\n",
              "            + ' to learn more about interactive tables.';\n",
              "          element.innerHTML = '';\n",
              "          dataTable['output_type'] = 'display_data';\n",
              "          await google.colab.output.renderOutput(dataTable, element);\n",
              "          const docLink = document.createElement('div');\n",
              "          docLink.innerHTML = docLinkHtml;\n",
              "          element.appendChild(docLink);\n",
              "        }\n",
              "      </script>\n",
              "    </div>\n",
              "  </div>\n",
              "  "
            ]
          },
          "metadata": {},
          "execution_count": 6
        }
      ],
      "source": [
        "historico.head()"
      ]
    },
    {
      "cell_type": "code",
      "source": [
        "alfabetico_completo.columns"
      ],
      "metadata": {
        "colab": {
          "base_uri": "https://localhost:8080/"
        },
        "id": "HaegnxjshruV",
        "outputId": "cb0c0018-6fbe-4077-aa01-65a84538d7ff"
      },
      "id": "HaegnxjshruV",
      "execution_count": 7,
      "outputs": [
        {
          "output_type": "execute_result",
          "data": {
            "text/plain": [
              "Index(['DOCUMENTO', 'NOMBRE_COMPLETO', 'COD REGIONAL', 'REGIONAL', 'COD_CCOS',\n",
              "       'DESPENDENCIA', 'FECHA_NACIMIENTO', 'FECHA_INGRESO', 'CARGO', 'SEXO',\n",
              "       'DESCRIPCIÓN TIPO DE CARGO', 'NOMBRE ESTADO DE CARGO', 'CORREO SENA',\n",
              "       'CORREO MISENA', 'CORREO 2', 'TELEFONO 1', 'TELEFONO 2', 'RED', 'AREA',\n",
              "       'RUTA', 'OBSERVACIÓN ', 'FECHA', 'NUEVOS'],\n",
              "      dtype='object')"
            ]
          },
          "metadata": {},
          "execution_count": 7
        }
      ]
    },
    {
      "cell_type": "code",
      "source": [
        "alfabetico = alfabetico_completo[['DOCUMENTO', 'NOMBRE_COMPLETO', 'COD REGIONAL', 'REGIONAL', 'COD_CCOS',\n",
        "       'DESPENDENCIA', 'CARGO', 'SEXO','DESCRIPCIÓN TIPO DE CARGO','RED', 'AREA',]]"
      ],
      "metadata": {
        "id": "buU1-F31DbP6"
      },
      "id": "buU1-F31DbP6",
      "execution_count": 8,
      "outputs": []
    },
    {
      "cell_type": "code",
      "source": [
        "alfabetico.head()"
      ],
      "metadata": {
        "id": "UhL7XG1-iNQQ",
        "colab": {
          "base_uri": "https://localhost:8080/",
          "height": 354
        },
        "outputId": "6e1dcbad-aac1-4cfb-ab26-aed0b7b797c0"
      },
      "id": "UhL7XG1-iNQQ",
      "execution_count": 9,
      "outputs": [
        {
          "output_type": "execute_result",
          "data": {
            "text/plain": [
              "   DOCUMENTO                 NOMBRE_COMPLETO  COD REGIONAL   REGIONAL  \\\n",
              "0    1177705  Curtidor Guataqui Luis Alberto             5  ANTIOQUIA   \n",
              "1    3165918      Aldana Marroquin Giovanny              5  ANTIOQUIA   \n",
              "2    3353119         Londoño Londoño Eucaris             5  ANTIOQUIA   \n",
              "3    3353808     Cruz Vasquez Carlos Alberto             5  ANTIOQUIA   \n",
              "4    3408311    Quiroz Hoyos Ediccson Manuel             5  ANTIOQUIA   \n",
              "\n",
              "   COD_CCOS                                DESPENDENCIA           CARGO SEXO  \\\n",
              "0      9127        CENTRO DE FORMACIÓN MINERO AMBIENTAL  Instructor G09    M   \n",
              "1      9402  CENTRO DE SERVICIOS Y GESTION EMPRESARIAL   Instructor G15    M   \n",
              "2      9301                          CENTRO DE COMERCIO  Instructor G16    M   \n",
              "3      9201     CENTRO DE DISEÑO Y MANUFACTURA DE CUERO  Instructor G15    M   \n",
              "4      9402  CENTRO DE SERVICIOS Y GESTION EMPRESARIAL   Instructor G19    M   \n",
              "\n",
              "  DESCRIPCIÓN TIPO DE CARGO                                          RED  \\\n",
              "0    CARRERA ADMINISTRATIVA                                      MINERÍA   \n",
              "1    CARRERA ADMINISTRATIVA          GESTIÓN ADMINISTRATIVA Y FINANCIERA   \n",
              "2    CARRERA ADMINISTRATIVA                            COMERCIO Y VENTAS   \n",
              "3    CARRERA ADMINISTRATIVA                CUERO CALZADO Y MARROQUINERÍA   \n",
              "4    CARRERA ADMINISTRATIVA  INFORMATICA DISEÑO Y DESARROLLO DE SOFTWARE   \n",
              "\n",
              "                     AREA  \n",
              "0                 MINERÍA  \n",
              "1  GESTIÓN ADMINISTRATIVA  \n",
              "2     GESTIÓN DE MERCADOS  \n",
              "3  FABRICACIÓN DE CALZADO  \n",
              "4                SOFTWARE  "
            ],
            "text/html": [
              "\n",
              "  <div id=\"df-7179a180-70db-40ac-bd77-6dafa4a0b793\">\n",
              "    <div class=\"colab-df-container\">\n",
              "      <div>\n",
              "<style scoped>\n",
              "    .dataframe tbody tr th:only-of-type {\n",
              "        vertical-align: middle;\n",
              "    }\n",
              "\n",
              "    .dataframe tbody tr th {\n",
              "        vertical-align: top;\n",
              "    }\n",
              "\n",
              "    .dataframe thead th {\n",
              "        text-align: right;\n",
              "    }\n",
              "</style>\n",
              "<table border=\"1\" class=\"dataframe\">\n",
              "  <thead>\n",
              "    <tr style=\"text-align: right;\">\n",
              "      <th></th>\n",
              "      <th>DOCUMENTO</th>\n",
              "      <th>NOMBRE_COMPLETO</th>\n",
              "      <th>COD REGIONAL</th>\n",
              "      <th>REGIONAL</th>\n",
              "      <th>COD_CCOS</th>\n",
              "      <th>DESPENDENCIA</th>\n",
              "      <th>CARGO</th>\n",
              "      <th>SEXO</th>\n",
              "      <th>DESCRIPCIÓN TIPO DE CARGO</th>\n",
              "      <th>RED</th>\n",
              "      <th>AREA</th>\n",
              "    </tr>\n",
              "  </thead>\n",
              "  <tbody>\n",
              "    <tr>\n",
              "      <th>0</th>\n",
              "      <td>1177705</td>\n",
              "      <td>Curtidor Guataqui Luis Alberto</td>\n",
              "      <td>5</td>\n",
              "      <td>ANTIOQUIA</td>\n",
              "      <td>9127</td>\n",
              "      <td>CENTRO DE FORMACIÓN MINERO AMBIENTAL</td>\n",
              "      <td>Instructor G09</td>\n",
              "      <td>M</td>\n",
              "      <td>CARRERA ADMINISTRATIVA</td>\n",
              "      <td>MINERÍA</td>\n",
              "      <td>MINERÍA</td>\n",
              "    </tr>\n",
              "    <tr>\n",
              "      <th>1</th>\n",
              "      <td>3165918</td>\n",
              "      <td>Aldana Marroquin Giovanny</td>\n",
              "      <td>5</td>\n",
              "      <td>ANTIOQUIA</td>\n",
              "      <td>9402</td>\n",
              "      <td>CENTRO DE SERVICIOS Y GESTION EMPRESARIAL</td>\n",
              "      <td>Instructor G15</td>\n",
              "      <td>M</td>\n",
              "      <td>CARRERA ADMINISTRATIVA</td>\n",
              "      <td>GESTIÓN ADMINISTRATIVA Y FINANCIERA</td>\n",
              "      <td>GESTIÓN ADMINISTRATIVA</td>\n",
              "    </tr>\n",
              "    <tr>\n",
              "      <th>2</th>\n",
              "      <td>3353119</td>\n",
              "      <td>Londoño Londoño Eucaris</td>\n",
              "      <td>5</td>\n",
              "      <td>ANTIOQUIA</td>\n",
              "      <td>9301</td>\n",
              "      <td>CENTRO DE COMERCIO</td>\n",
              "      <td>Instructor G16</td>\n",
              "      <td>M</td>\n",
              "      <td>CARRERA ADMINISTRATIVA</td>\n",
              "      <td>COMERCIO Y VENTAS</td>\n",
              "      <td>GESTIÓN DE MERCADOS</td>\n",
              "    </tr>\n",
              "    <tr>\n",
              "      <th>3</th>\n",
              "      <td>3353808</td>\n",
              "      <td>Cruz Vasquez Carlos Alberto</td>\n",
              "      <td>5</td>\n",
              "      <td>ANTIOQUIA</td>\n",
              "      <td>9201</td>\n",
              "      <td>CENTRO DE DISEÑO Y MANUFACTURA DE CUERO</td>\n",
              "      <td>Instructor G15</td>\n",
              "      <td>M</td>\n",
              "      <td>CARRERA ADMINISTRATIVA</td>\n",
              "      <td>CUERO CALZADO Y MARROQUINERÍA</td>\n",
              "      <td>FABRICACIÓN DE CALZADO</td>\n",
              "    </tr>\n",
              "    <tr>\n",
              "      <th>4</th>\n",
              "      <td>3408311</td>\n",
              "      <td>Quiroz Hoyos Ediccson Manuel</td>\n",
              "      <td>5</td>\n",
              "      <td>ANTIOQUIA</td>\n",
              "      <td>9402</td>\n",
              "      <td>CENTRO DE SERVICIOS Y GESTION EMPRESARIAL</td>\n",
              "      <td>Instructor G19</td>\n",
              "      <td>M</td>\n",
              "      <td>CARRERA ADMINISTRATIVA</td>\n",
              "      <td>INFORMATICA DISEÑO Y DESARROLLO DE SOFTWARE</td>\n",
              "      <td>SOFTWARE</td>\n",
              "    </tr>\n",
              "  </tbody>\n",
              "</table>\n",
              "</div>\n",
              "      <button class=\"colab-df-convert\" onclick=\"convertToInteractive('df-7179a180-70db-40ac-bd77-6dafa4a0b793')\"\n",
              "              title=\"Convert this dataframe to an interactive table.\"\n",
              "              style=\"display:none;\">\n",
              "        \n",
              "  <svg xmlns=\"http://www.w3.org/2000/svg\" height=\"24px\"viewBox=\"0 0 24 24\"\n",
              "       width=\"24px\">\n",
              "    <path d=\"M0 0h24v24H0V0z\" fill=\"none\"/>\n",
              "    <path d=\"M18.56 5.44l.94 2.06.94-2.06 2.06-.94-2.06-.94-.94-2.06-.94 2.06-2.06.94zm-11 1L8.5 8.5l.94-2.06 2.06-.94-2.06-.94L8.5 2.5l-.94 2.06-2.06.94zm10 10l.94 2.06.94-2.06 2.06-.94-2.06-.94-.94-2.06-.94 2.06-2.06.94z\"/><path d=\"M17.41 7.96l-1.37-1.37c-.4-.4-.92-.59-1.43-.59-.52 0-1.04.2-1.43.59L10.3 9.45l-7.72 7.72c-.78.78-.78 2.05 0 2.83L4 21.41c.39.39.9.59 1.41.59.51 0 1.02-.2 1.41-.59l7.78-7.78 2.81-2.81c.8-.78.8-2.07 0-2.86zM5.41 20L4 18.59l7.72-7.72 1.47 1.35L5.41 20z\"/>\n",
              "  </svg>\n",
              "      </button>\n",
              "      \n",
              "  <style>\n",
              "    .colab-df-container {\n",
              "      display:flex;\n",
              "      flex-wrap:wrap;\n",
              "      gap: 12px;\n",
              "    }\n",
              "\n",
              "    .colab-df-convert {\n",
              "      background-color: #E8F0FE;\n",
              "      border: none;\n",
              "      border-radius: 50%;\n",
              "      cursor: pointer;\n",
              "      display: none;\n",
              "      fill: #1967D2;\n",
              "      height: 32px;\n",
              "      padding: 0 0 0 0;\n",
              "      width: 32px;\n",
              "    }\n",
              "\n",
              "    .colab-df-convert:hover {\n",
              "      background-color: #E2EBFA;\n",
              "      box-shadow: 0px 1px 2px rgba(60, 64, 67, 0.3), 0px 1px 3px 1px rgba(60, 64, 67, 0.15);\n",
              "      fill: #174EA6;\n",
              "    }\n",
              "\n",
              "    [theme=dark] .colab-df-convert {\n",
              "      background-color: #3B4455;\n",
              "      fill: #D2E3FC;\n",
              "    }\n",
              "\n",
              "    [theme=dark] .colab-df-convert:hover {\n",
              "      background-color: #434B5C;\n",
              "      box-shadow: 0px 1px 3px 1px rgba(0, 0, 0, 0.15);\n",
              "      filter: drop-shadow(0px 1px 2px rgba(0, 0, 0, 0.3));\n",
              "      fill: #FFFFFF;\n",
              "    }\n",
              "  </style>\n",
              "\n",
              "      <script>\n",
              "        const buttonEl =\n",
              "          document.querySelector('#df-7179a180-70db-40ac-bd77-6dafa4a0b793 button.colab-df-convert');\n",
              "        buttonEl.style.display =\n",
              "          google.colab.kernel.accessAllowed ? 'block' : 'none';\n",
              "\n",
              "        async function convertToInteractive(key) {\n",
              "          const element = document.querySelector('#df-7179a180-70db-40ac-bd77-6dafa4a0b793');\n",
              "          const dataTable =\n",
              "            await google.colab.kernel.invokeFunction('convertToInteractive',\n",
              "                                                     [key], {});\n",
              "          if (!dataTable) return;\n",
              "\n",
              "          const docLinkHtml = 'Like what you see? Visit the ' +\n",
              "            '<a target=\"_blank\" href=https://colab.research.google.com/notebooks/data_table.ipynb>data table notebook</a>'\n",
              "            + ' to learn more about interactive tables.';\n",
              "          element.innerHTML = '';\n",
              "          dataTable['output_type'] = 'display_data';\n",
              "          await google.colab.output.renderOutput(dataTable, element);\n",
              "          const docLink = document.createElement('div');\n",
              "          docLink.innerHTML = docLinkHtml;\n",
              "          element.appendChild(docLink);\n",
              "        }\n",
              "      </script>\n",
              "    </div>\n",
              "  </div>\n",
              "  "
            ]
          },
          "metadata": {},
          "execution_count": 9
        }
      ]
    },
    {
      "cell_type": "code",
      "execution_count": 10,
      "id": "02a88e2b-e517-4e7c-ae26-fabe86be38c9",
      "metadata": {
        "colab": {
          "base_uri": "https://localhost:8080/",
          "height": 159
        },
        "id": "02a88e2b-e517-4e7c-ae26-fabe86be38c9",
        "outputId": "a5a8d77d-9357-46b8-a766-4ef541cf7350"
      },
      "outputs": [
        {
          "output_type": "execute_result",
          "data": {
            "text/plain": [
              "     DOCUMENTO              NOMBRE_COMPLETO  COD REGIONAL   REGIONAL  \\\n",
              "997   72005788  Ariza Arnedo Jhonny Alberto             8  ATLÁNTICO   \n",
              "\n",
              "     COD_CCOS                    DESPENDENCIA           CARGO SEXO  \\\n",
              "997      9207  CENTRO NACIONAL COLOMBO ALEMAN  Instructor G20    M   \n",
              "\n",
              "    DESCRIPCIÓN TIPO DE CARGO                                          RED  \\\n",
              "997    CARRERA ADMINISTRATIVA  INFORMATICA DISEÑO Y DESARROLLO DE SOFTWARE   \n",
              "\n",
              "                AREA  \n",
              "997  INFRAESTRUCTURA  "
            ],
            "text/html": [
              "\n",
              "  <div id=\"df-74cee163-6682-4f1f-b554-568a89ec2f2f\">\n",
              "    <div class=\"colab-df-container\">\n",
              "      <div>\n",
              "<style scoped>\n",
              "    .dataframe tbody tr th:only-of-type {\n",
              "        vertical-align: middle;\n",
              "    }\n",
              "\n",
              "    .dataframe tbody tr th {\n",
              "        vertical-align: top;\n",
              "    }\n",
              "\n",
              "    .dataframe thead th {\n",
              "        text-align: right;\n",
              "    }\n",
              "</style>\n",
              "<table border=\"1\" class=\"dataframe\">\n",
              "  <thead>\n",
              "    <tr style=\"text-align: right;\">\n",
              "      <th></th>\n",
              "      <th>DOCUMENTO</th>\n",
              "      <th>NOMBRE_COMPLETO</th>\n",
              "      <th>COD REGIONAL</th>\n",
              "      <th>REGIONAL</th>\n",
              "      <th>COD_CCOS</th>\n",
              "      <th>DESPENDENCIA</th>\n",
              "      <th>CARGO</th>\n",
              "      <th>SEXO</th>\n",
              "      <th>DESCRIPCIÓN TIPO DE CARGO</th>\n",
              "      <th>RED</th>\n",
              "      <th>AREA</th>\n",
              "    </tr>\n",
              "  </thead>\n",
              "  <tbody>\n",
              "    <tr>\n",
              "      <th>997</th>\n",
              "      <td>72005788</td>\n",
              "      <td>Ariza Arnedo Jhonny Alberto</td>\n",
              "      <td>8</td>\n",
              "      <td>ATLÁNTICO</td>\n",
              "      <td>9207</td>\n",
              "      <td>CENTRO NACIONAL COLOMBO ALEMAN</td>\n",
              "      <td>Instructor G20</td>\n",
              "      <td>M</td>\n",
              "      <td>CARRERA ADMINISTRATIVA</td>\n",
              "      <td>INFORMATICA DISEÑO Y DESARROLLO DE SOFTWARE</td>\n",
              "      <td>INFRAESTRUCTURA</td>\n",
              "    </tr>\n",
              "  </tbody>\n",
              "</table>\n",
              "</div>\n",
              "      <button class=\"colab-df-convert\" onclick=\"convertToInteractive('df-74cee163-6682-4f1f-b554-568a89ec2f2f')\"\n",
              "              title=\"Convert this dataframe to an interactive table.\"\n",
              "              style=\"display:none;\">\n",
              "        \n",
              "  <svg xmlns=\"http://www.w3.org/2000/svg\" height=\"24px\"viewBox=\"0 0 24 24\"\n",
              "       width=\"24px\">\n",
              "    <path d=\"M0 0h24v24H0V0z\" fill=\"none\"/>\n",
              "    <path d=\"M18.56 5.44l.94 2.06.94-2.06 2.06-.94-2.06-.94-.94-2.06-.94 2.06-2.06.94zm-11 1L8.5 8.5l.94-2.06 2.06-.94-2.06-.94L8.5 2.5l-.94 2.06-2.06.94zm10 10l.94 2.06.94-2.06 2.06-.94-2.06-.94-.94-2.06-.94 2.06-2.06.94z\"/><path d=\"M17.41 7.96l-1.37-1.37c-.4-.4-.92-.59-1.43-.59-.52 0-1.04.2-1.43.59L10.3 9.45l-7.72 7.72c-.78.78-.78 2.05 0 2.83L4 21.41c.39.39.9.59 1.41.59.51 0 1.02-.2 1.41-.59l7.78-7.78 2.81-2.81c.8-.78.8-2.07 0-2.86zM5.41 20L4 18.59l7.72-7.72 1.47 1.35L5.41 20z\"/>\n",
              "  </svg>\n",
              "      </button>\n",
              "      \n",
              "  <style>\n",
              "    .colab-df-container {\n",
              "      display:flex;\n",
              "      flex-wrap:wrap;\n",
              "      gap: 12px;\n",
              "    }\n",
              "\n",
              "    .colab-df-convert {\n",
              "      background-color: #E8F0FE;\n",
              "      border: none;\n",
              "      border-radius: 50%;\n",
              "      cursor: pointer;\n",
              "      display: none;\n",
              "      fill: #1967D2;\n",
              "      height: 32px;\n",
              "      padding: 0 0 0 0;\n",
              "      width: 32px;\n",
              "    }\n",
              "\n",
              "    .colab-df-convert:hover {\n",
              "      background-color: #E2EBFA;\n",
              "      box-shadow: 0px 1px 2px rgba(60, 64, 67, 0.3), 0px 1px 3px 1px rgba(60, 64, 67, 0.15);\n",
              "      fill: #174EA6;\n",
              "    }\n",
              "\n",
              "    [theme=dark] .colab-df-convert {\n",
              "      background-color: #3B4455;\n",
              "      fill: #D2E3FC;\n",
              "    }\n",
              "\n",
              "    [theme=dark] .colab-df-convert:hover {\n",
              "      background-color: #434B5C;\n",
              "      box-shadow: 0px 1px 3px 1px rgba(0, 0, 0, 0.15);\n",
              "      filter: drop-shadow(0px 1px 2px rgba(0, 0, 0, 0.3));\n",
              "      fill: #FFFFFF;\n",
              "    }\n",
              "  </style>\n",
              "\n",
              "      <script>\n",
              "        const buttonEl =\n",
              "          document.querySelector('#df-74cee163-6682-4f1f-b554-568a89ec2f2f button.colab-df-convert');\n",
              "        buttonEl.style.display =\n",
              "          google.colab.kernel.accessAllowed ? 'block' : 'none';\n",
              "\n",
              "        async function convertToInteractive(key) {\n",
              "          const element = document.querySelector('#df-74cee163-6682-4f1f-b554-568a89ec2f2f');\n",
              "          const dataTable =\n",
              "            await google.colab.kernel.invokeFunction('convertToInteractive',\n",
              "                                                     [key], {});\n",
              "          if (!dataTable) return;\n",
              "\n",
              "          const docLinkHtml = 'Like what you see? Visit the ' +\n",
              "            '<a target=\"_blank\" href=https://colab.research.google.com/notebooks/data_table.ipynb>data table notebook</a>'\n",
              "            + ' to learn more about interactive tables.';\n",
              "          element.innerHTML = '';\n",
              "          dataTable['output_type'] = 'display_data';\n",
              "          await google.colab.output.renderOutput(dataTable, element);\n",
              "          const docLink = document.createElement('div');\n",
              "          docLink.innerHTML = docLinkHtml;\n",
              "          element.appendChild(docLink);\n",
              "        }\n",
              "      </script>\n",
              "    </div>\n",
              "  </div>\n",
              "  "
            ]
          },
          "metadata": {},
          "execution_count": 10
        }
      ],
      "source": [
        "alfabetico[alfabetico['DOCUMENTO'] == 72005788]"
      ]
    },
    {
      "cell_type": "code",
      "execution_count": 11,
      "id": "4867dd3b-b659-443d-84a3-6f4492043d1e",
      "metadata": {
        "colab": {
          "base_uri": "https://localhost:8080/",
          "height": 375
        },
        "id": "4867dd3b-b659-443d-84a3-6f4492043d1e",
        "outputId": "b2ced416-451a-447e-d82a-9fbc7a2d3591"
      },
      "outputs": [
        {
          "output_type": "execute_result",
          "data": {
            "text/plain": [
              "     Fecha de Registro N° Cédula del Participante  \\\n",
              "0           2022-02-02                   72005788   \n",
              "56          2022-02-08                   72005788   \n",
              "3659        2022-05-02                   72005788   \n",
              "5087        2022-05-31                   72005788   \n",
              "\n",
              "     Nombres y Apellidos del Participante      Entidad Capacitadora  \\\n",
              "0             Ariza Arnedo Jhonny Alberto        THE SIEMON COMPANY   \n",
              "56            Ariza Arnedo Jhonny Alberto                     MNEMO   \n",
              "3659          Ariza Arnedo Jhonny Alberto  SENA-MOU Academias CISCO   \n",
              "5087          Ariza Arnedo Jhonny Alberto                SENA - AWS   \n",
              "\n",
              "     Fecha Inicio Capacitación Modalidad de Capacitación Tipo de Capacitación  \\\n",
              "0                   2022-02-14                PRESENCIAL              TÉCNICA   \n",
              "56                  2022-02-15      PRESENCIAL Y VIRTUAL  CLAVE Y TRANSVERSAL   \n",
              "3659                2022-05-31      PRESENCIAL Y VIRTUAL              TÉCNICA   \n",
              "5087                2022-06-21                PRESENCIAL              TÉCNICA   \n",
              "\n",
              "     Clase de la Capacitación Certificado  \\\n",
              "0                       CURSO          SI   \n",
              "56                      CURSO         SI    \n",
              "3659                    CURSO          SI   \n",
              "5087                    CURSO          SI   \n",
              "\n",
              "     Justificación de inasistencia o no certificación  \\\n",
              "0                                                 NaN   \n",
              "56                                                NaN   \n",
              "3659                                              NaN   \n",
              "5087                                              NaN   \n",
              "\n",
              "                                 Código de Capacitación  \n",
              "0     TÉ140222 DISEÑO Y PRÁCTICAS DE INSTALACIÓN PAR...  \n",
              "56    CL150222 HACKING ÉTICO APLICACIONES WEB Y SIST...  \n",
              "3659  TÉ310522 RUTA DE ENTRENAMIENTO CISCO IT ESSENT...  \n",
              "5087  TÉ210622 RUTA DE ENTRENAMIENTO PARA INSTRUCTOR...  "
            ],
            "text/html": [
              "\n",
              "  <div id=\"df-e9eec709-a260-483d-9ee6-8f722ce75df9\">\n",
              "    <div class=\"colab-df-container\">\n",
              "      <div>\n",
              "<style scoped>\n",
              "    .dataframe tbody tr th:only-of-type {\n",
              "        vertical-align: middle;\n",
              "    }\n",
              "\n",
              "    .dataframe tbody tr th {\n",
              "        vertical-align: top;\n",
              "    }\n",
              "\n",
              "    .dataframe thead th {\n",
              "        text-align: right;\n",
              "    }\n",
              "</style>\n",
              "<table border=\"1\" class=\"dataframe\">\n",
              "  <thead>\n",
              "    <tr style=\"text-align: right;\">\n",
              "      <th></th>\n",
              "      <th>Fecha de Registro</th>\n",
              "      <th>N° Cédula del Participante</th>\n",
              "      <th>Nombres y Apellidos del Participante</th>\n",
              "      <th>Entidad Capacitadora</th>\n",
              "      <th>Fecha Inicio Capacitación</th>\n",
              "      <th>Modalidad de Capacitación</th>\n",
              "      <th>Tipo de Capacitación</th>\n",
              "      <th>Clase de la Capacitación</th>\n",
              "      <th>Certificado</th>\n",
              "      <th>Justificación de inasistencia o no certificación</th>\n",
              "      <th>Código de Capacitación</th>\n",
              "    </tr>\n",
              "  </thead>\n",
              "  <tbody>\n",
              "    <tr>\n",
              "      <th>0</th>\n",
              "      <td>2022-02-02</td>\n",
              "      <td>72005788</td>\n",
              "      <td>Ariza Arnedo Jhonny Alberto</td>\n",
              "      <td>THE SIEMON COMPANY</td>\n",
              "      <td>2022-02-14</td>\n",
              "      <td>PRESENCIAL</td>\n",
              "      <td>TÉCNICA</td>\n",
              "      <td>CURSO</td>\n",
              "      <td>SI</td>\n",
              "      <td>NaN</td>\n",
              "      <td>TÉ140222 DISEÑO Y PRÁCTICAS DE INSTALACIÓN PAR...</td>\n",
              "    </tr>\n",
              "    <tr>\n",
              "      <th>56</th>\n",
              "      <td>2022-02-08</td>\n",
              "      <td>72005788</td>\n",
              "      <td>Ariza Arnedo Jhonny Alberto</td>\n",
              "      <td>MNEMO</td>\n",
              "      <td>2022-02-15</td>\n",
              "      <td>PRESENCIAL Y VIRTUAL</td>\n",
              "      <td>CLAVE Y TRANSVERSAL</td>\n",
              "      <td>CURSO</td>\n",
              "      <td>SI</td>\n",
              "      <td>NaN</td>\n",
              "      <td>CL150222 HACKING ÉTICO APLICACIONES WEB Y SIST...</td>\n",
              "    </tr>\n",
              "    <tr>\n",
              "      <th>3659</th>\n",
              "      <td>2022-05-02</td>\n",
              "      <td>72005788</td>\n",
              "      <td>Ariza Arnedo Jhonny Alberto</td>\n",
              "      <td>SENA-MOU Academias CISCO</td>\n",
              "      <td>2022-05-31</td>\n",
              "      <td>PRESENCIAL Y VIRTUAL</td>\n",
              "      <td>TÉCNICA</td>\n",
              "      <td>CURSO</td>\n",
              "      <td>SI</td>\n",
              "      <td>NaN</td>\n",
              "      <td>TÉ310522 RUTA DE ENTRENAMIENTO CISCO IT ESSENT...</td>\n",
              "    </tr>\n",
              "    <tr>\n",
              "      <th>5087</th>\n",
              "      <td>2022-05-31</td>\n",
              "      <td>72005788</td>\n",
              "      <td>Ariza Arnedo Jhonny Alberto</td>\n",
              "      <td>SENA - AWS</td>\n",
              "      <td>2022-06-21</td>\n",
              "      <td>PRESENCIAL</td>\n",
              "      <td>TÉCNICA</td>\n",
              "      <td>CURSO</td>\n",
              "      <td>SI</td>\n",
              "      <td>NaN</td>\n",
              "      <td>TÉ210622 RUTA DE ENTRENAMIENTO PARA INSTRUCTOR...</td>\n",
              "    </tr>\n",
              "  </tbody>\n",
              "</table>\n",
              "</div>\n",
              "      <button class=\"colab-df-convert\" onclick=\"convertToInteractive('df-e9eec709-a260-483d-9ee6-8f722ce75df9')\"\n",
              "              title=\"Convert this dataframe to an interactive table.\"\n",
              "              style=\"display:none;\">\n",
              "        \n",
              "  <svg xmlns=\"http://www.w3.org/2000/svg\" height=\"24px\"viewBox=\"0 0 24 24\"\n",
              "       width=\"24px\">\n",
              "    <path d=\"M0 0h24v24H0V0z\" fill=\"none\"/>\n",
              "    <path d=\"M18.56 5.44l.94 2.06.94-2.06 2.06-.94-2.06-.94-.94-2.06-.94 2.06-2.06.94zm-11 1L8.5 8.5l.94-2.06 2.06-.94-2.06-.94L8.5 2.5l-.94 2.06-2.06.94zm10 10l.94 2.06.94-2.06 2.06-.94-2.06-.94-.94-2.06-.94 2.06-2.06.94z\"/><path d=\"M17.41 7.96l-1.37-1.37c-.4-.4-.92-.59-1.43-.59-.52 0-1.04.2-1.43.59L10.3 9.45l-7.72 7.72c-.78.78-.78 2.05 0 2.83L4 21.41c.39.39.9.59 1.41.59.51 0 1.02-.2 1.41-.59l7.78-7.78 2.81-2.81c.8-.78.8-2.07 0-2.86zM5.41 20L4 18.59l7.72-7.72 1.47 1.35L5.41 20z\"/>\n",
              "  </svg>\n",
              "      </button>\n",
              "      \n",
              "  <style>\n",
              "    .colab-df-container {\n",
              "      display:flex;\n",
              "      flex-wrap:wrap;\n",
              "      gap: 12px;\n",
              "    }\n",
              "\n",
              "    .colab-df-convert {\n",
              "      background-color: #E8F0FE;\n",
              "      border: none;\n",
              "      border-radius: 50%;\n",
              "      cursor: pointer;\n",
              "      display: none;\n",
              "      fill: #1967D2;\n",
              "      height: 32px;\n",
              "      padding: 0 0 0 0;\n",
              "      width: 32px;\n",
              "    }\n",
              "\n",
              "    .colab-df-convert:hover {\n",
              "      background-color: #E2EBFA;\n",
              "      box-shadow: 0px 1px 2px rgba(60, 64, 67, 0.3), 0px 1px 3px 1px rgba(60, 64, 67, 0.15);\n",
              "      fill: #174EA6;\n",
              "    }\n",
              "\n",
              "    [theme=dark] .colab-df-convert {\n",
              "      background-color: #3B4455;\n",
              "      fill: #D2E3FC;\n",
              "    }\n",
              "\n",
              "    [theme=dark] .colab-df-convert:hover {\n",
              "      background-color: #434B5C;\n",
              "      box-shadow: 0px 1px 3px 1px rgba(0, 0, 0, 0.15);\n",
              "      filter: drop-shadow(0px 1px 2px rgba(0, 0, 0, 0.3));\n",
              "      fill: #FFFFFF;\n",
              "    }\n",
              "  </style>\n",
              "\n",
              "      <script>\n",
              "        const buttonEl =\n",
              "          document.querySelector('#df-e9eec709-a260-483d-9ee6-8f722ce75df9 button.colab-df-convert');\n",
              "        buttonEl.style.display =\n",
              "          google.colab.kernel.accessAllowed ? 'block' : 'none';\n",
              "\n",
              "        async function convertToInteractive(key) {\n",
              "          const element = document.querySelector('#df-e9eec709-a260-483d-9ee6-8f722ce75df9');\n",
              "          const dataTable =\n",
              "            await google.colab.kernel.invokeFunction('convertToInteractive',\n",
              "                                                     [key], {});\n",
              "          if (!dataTable) return;\n",
              "\n",
              "          const docLinkHtml = 'Like what you see? Visit the ' +\n",
              "            '<a target=\"_blank\" href=https://colab.research.google.com/notebooks/data_table.ipynb>data table notebook</a>'\n",
              "            + ' to learn more about interactive tables.';\n",
              "          element.innerHTML = '';\n",
              "          dataTable['output_type'] = 'display_data';\n",
              "          await google.colab.output.renderOutput(dataTable, element);\n",
              "          const docLink = document.createElement('div');\n",
              "          docLink.innerHTML = docLinkHtml;\n",
              "          element.appendChild(docLink);\n",
              "        }\n",
              "      </script>\n",
              "    </div>\n",
              "  </div>\n",
              "  "
            ]
          },
          "metadata": {},
          "execution_count": 11
        }
      ],
      "source": [
        "historico[historico['N° Cédula del Participante'] == 72005788]"
      ]
    },
    {
      "cell_type": "markdown",
      "source": [
        "#**3. Renombrar las columnas**"
      ],
      "metadata": {
        "id": "4zeLVBzGAYez"
      },
      "id": "4zeLVBzGAYez"
    },
    {
      "cell_type": "code",
      "source": [
        "alfabetico.columns"
      ],
      "metadata": {
        "colab": {
          "base_uri": "https://localhost:8080/"
        },
        "id": "mVfHX97FQsXk",
        "outputId": "cc504630-dc8b-4c66-9567-65f2775006f1"
      },
      "id": "mVfHX97FQsXk",
      "execution_count": 12,
      "outputs": [
        {
          "output_type": "execute_result",
          "data": {
            "text/plain": [
              "Index(['DOCUMENTO', 'NOMBRE_COMPLETO', 'COD REGIONAL', 'REGIONAL', 'COD_CCOS',\n",
              "       'DESPENDENCIA', 'CARGO', 'SEXO', 'DESCRIPCIÓN TIPO DE CARGO', 'RED',\n",
              "       'AREA'],\n",
              "      dtype='object')"
            ]
          },
          "metadata": {},
          "execution_count": 12
        }
      ]
    },
    {
      "cell_type": "code",
      "source": [
        "historico.columns"
      ],
      "metadata": {
        "colab": {
          "base_uri": "https://localhost:8080/"
        },
        "id": "ZDH8FDjPRsUL",
        "outputId": "819c3d81-ab9c-4e3a-bac7-d857582ecd7a"
      },
      "id": "ZDH8FDjPRsUL",
      "execution_count": 13,
      "outputs": [
        {
          "output_type": "execute_result",
          "data": {
            "text/plain": [
              "Index(['Fecha de Registro', 'N° Cédula del Participante',\n",
              "       'Nombres y Apellidos del Participante', 'Entidad Capacitadora',\n",
              "       'Fecha Inicio Capacitación', 'Modalidad de Capacitación',\n",
              "       'Tipo de Capacitación', 'Clase de la Capacitación', 'Certificado',\n",
              "       'Justificación de inasistencia o no certificación',\n",
              "       'Código de Capacitación'],\n",
              "      dtype='object')"
            ]
          },
          "metadata": {},
          "execution_count": 13
        }
      ]
    },
    {
      "cell_type": "code",
      "source": [
        "alfabetico.rename(columns = {'NOMBRE_COMPLETO':'NOMBRE_INSTRUCTOR', 'COD REGIONAL':'COD_REGIONAL','COD_CCOS':'COD_CENTRO_FORMACIÓN',\n",
        "                             'DESPENDENCIA':'CENTRO_FORMACIÓN', 'CARGO':'GRADO_INSTRUCTOR','DESCRIPCIÓN TIPO DE CARGO':'TIPO_VINCULACIÓN',\n",
        "                             'RED':'RED_CONOCIMIENTO','AREA':'AREA_TEMÁTICA'}, inplace = True)"
      ],
      "metadata": {
        "colab": {
          "base_uri": "https://localhost:8080/"
        },
        "id": "T0htCfXSAhzn",
        "outputId": "55e00e66-e75f-4217-f9ca-502b54f6b054"
      },
      "id": "T0htCfXSAhzn",
      "execution_count": 14,
      "outputs": [
        {
          "output_type": "stream",
          "name": "stderr",
          "text": [
            "/usr/local/lib/python3.7/dist-packages/pandas/core/frame.py:5047: SettingWithCopyWarning: \n",
            "A value is trying to be set on a copy of a slice from a DataFrame\n",
            "\n",
            "See the caveats in the documentation: https://pandas.pydata.org/pandas-docs/stable/user_guide/indexing.html#returning-a-view-versus-a-copy\n",
            "  errors=errors,\n"
          ]
        }
      ]
    },
    {
      "cell_type": "code",
      "source": [
        "alfabetico.head()"
      ],
      "metadata": {
        "colab": {
          "base_uri": "https://localhost:8080/",
          "height": 337
        },
        "id": "aXtqkYcShk61",
        "outputId": "d22848d1-c0c0-4856-fd37-c913c7a53ede"
      },
      "id": "aXtqkYcShk61",
      "execution_count": 15,
      "outputs": [
        {
          "output_type": "execute_result",
          "data": {
            "text/plain": [
              "   DOCUMENTO               NOMBRE_INSTRUCTOR  COD_REGIONAL   REGIONAL  \\\n",
              "0    1177705  Curtidor Guataqui Luis Alberto             5  ANTIOQUIA   \n",
              "1    3165918      Aldana Marroquin Giovanny              5  ANTIOQUIA   \n",
              "2    3353119         Londoño Londoño Eucaris             5  ANTIOQUIA   \n",
              "3    3353808     Cruz Vasquez Carlos Alberto             5  ANTIOQUIA   \n",
              "4    3408311    Quiroz Hoyos Ediccson Manuel             5  ANTIOQUIA   \n",
              "\n",
              "   COD_CENTRO_FORMACIÓN                            CENTRO_FORMACIÓN  \\\n",
              "0                  9127        CENTRO DE FORMACIÓN MINERO AMBIENTAL   \n",
              "1                  9402  CENTRO DE SERVICIOS Y GESTION EMPRESARIAL    \n",
              "2                  9301                          CENTRO DE COMERCIO   \n",
              "3                  9201     CENTRO DE DISEÑO Y MANUFACTURA DE CUERO   \n",
              "4                  9402  CENTRO DE SERVICIOS Y GESTION EMPRESARIAL    \n",
              "\n",
              "  GRADO_INSTRUCTOR SEXO        TIPO_VINCULACIÓN  \\\n",
              "0   Instructor G09    M  CARRERA ADMINISTRATIVA   \n",
              "1   Instructor G15    M  CARRERA ADMINISTRATIVA   \n",
              "2   Instructor G16    M  CARRERA ADMINISTRATIVA   \n",
              "3   Instructor G15    M  CARRERA ADMINISTRATIVA   \n",
              "4   Instructor G19    M  CARRERA ADMINISTRATIVA   \n",
              "\n",
              "                              RED_CONOCIMIENTO           AREA_TEMÁTICA  \n",
              "0                                      MINERÍA                 MINERÍA  \n",
              "1          GESTIÓN ADMINISTRATIVA Y FINANCIERA  GESTIÓN ADMINISTRATIVA  \n",
              "2                            COMERCIO Y VENTAS     GESTIÓN DE MERCADOS  \n",
              "3                CUERO CALZADO Y MARROQUINERÍA  FABRICACIÓN DE CALZADO  \n",
              "4  INFORMATICA DISEÑO Y DESARROLLO DE SOFTWARE                SOFTWARE  "
            ],
            "text/html": [
              "\n",
              "  <div id=\"df-0fcadc65-bea3-4531-849e-fe24aafcd0aa\">\n",
              "    <div class=\"colab-df-container\">\n",
              "      <div>\n",
              "<style scoped>\n",
              "    .dataframe tbody tr th:only-of-type {\n",
              "        vertical-align: middle;\n",
              "    }\n",
              "\n",
              "    .dataframe tbody tr th {\n",
              "        vertical-align: top;\n",
              "    }\n",
              "\n",
              "    .dataframe thead th {\n",
              "        text-align: right;\n",
              "    }\n",
              "</style>\n",
              "<table border=\"1\" class=\"dataframe\">\n",
              "  <thead>\n",
              "    <tr style=\"text-align: right;\">\n",
              "      <th></th>\n",
              "      <th>DOCUMENTO</th>\n",
              "      <th>NOMBRE_INSTRUCTOR</th>\n",
              "      <th>COD_REGIONAL</th>\n",
              "      <th>REGIONAL</th>\n",
              "      <th>COD_CENTRO_FORMACIÓN</th>\n",
              "      <th>CENTRO_FORMACIÓN</th>\n",
              "      <th>GRADO_INSTRUCTOR</th>\n",
              "      <th>SEXO</th>\n",
              "      <th>TIPO_VINCULACIÓN</th>\n",
              "      <th>RED_CONOCIMIENTO</th>\n",
              "      <th>AREA_TEMÁTICA</th>\n",
              "    </tr>\n",
              "  </thead>\n",
              "  <tbody>\n",
              "    <tr>\n",
              "      <th>0</th>\n",
              "      <td>1177705</td>\n",
              "      <td>Curtidor Guataqui Luis Alberto</td>\n",
              "      <td>5</td>\n",
              "      <td>ANTIOQUIA</td>\n",
              "      <td>9127</td>\n",
              "      <td>CENTRO DE FORMACIÓN MINERO AMBIENTAL</td>\n",
              "      <td>Instructor G09</td>\n",
              "      <td>M</td>\n",
              "      <td>CARRERA ADMINISTRATIVA</td>\n",
              "      <td>MINERÍA</td>\n",
              "      <td>MINERÍA</td>\n",
              "    </tr>\n",
              "    <tr>\n",
              "      <th>1</th>\n",
              "      <td>3165918</td>\n",
              "      <td>Aldana Marroquin Giovanny</td>\n",
              "      <td>5</td>\n",
              "      <td>ANTIOQUIA</td>\n",
              "      <td>9402</td>\n",
              "      <td>CENTRO DE SERVICIOS Y GESTION EMPRESARIAL</td>\n",
              "      <td>Instructor G15</td>\n",
              "      <td>M</td>\n",
              "      <td>CARRERA ADMINISTRATIVA</td>\n",
              "      <td>GESTIÓN ADMINISTRATIVA Y FINANCIERA</td>\n",
              "      <td>GESTIÓN ADMINISTRATIVA</td>\n",
              "    </tr>\n",
              "    <tr>\n",
              "      <th>2</th>\n",
              "      <td>3353119</td>\n",
              "      <td>Londoño Londoño Eucaris</td>\n",
              "      <td>5</td>\n",
              "      <td>ANTIOQUIA</td>\n",
              "      <td>9301</td>\n",
              "      <td>CENTRO DE COMERCIO</td>\n",
              "      <td>Instructor G16</td>\n",
              "      <td>M</td>\n",
              "      <td>CARRERA ADMINISTRATIVA</td>\n",
              "      <td>COMERCIO Y VENTAS</td>\n",
              "      <td>GESTIÓN DE MERCADOS</td>\n",
              "    </tr>\n",
              "    <tr>\n",
              "      <th>3</th>\n",
              "      <td>3353808</td>\n",
              "      <td>Cruz Vasquez Carlos Alberto</td>\n",
              "      <td>5</td>\n",
              "      <td>ANTIOQUIA</td>\n",
              "      <td>9201</td>\n",
              "      <td>CENTRO DE DISEÑO Y MANUFACTURA DE CUERO</td>\n",
              "      <td>Instructor G15</td>\n",
              "      <td>M</td>\n",
              "      <td>CARRERA ADMINISTRATIVA</td>\n",
              "      <td>CUERO CALZADO Y MARROQUINERÍA</td>\n",
              "      <td>FABRICACIÓN DE CALZADO</td>\n",
              "    </tr>\n",
              "    <tr>\n",
              "      <th>4</th>\n",
              "      <td>3408311</td>\n",
              "      <td>Quiroz Hoyos Ediccson Manuel</td>\n",
              "      <td>5</td>\n",
              "      <td>ANTIOQUIA</td>\n",
              "      <td>9402</td>\n",
              "      <td>CENTRO DE SERVICIOS Y GESTION EMPRESARIAL</td>\n",
              "      <td>Instructor G19</td>\n",
              "      <td>M</td>\n",
              "      <td>CARRERA ADMINISTRATIVA</td>\n",
              "      <td>INFORMATICA DISEÑO Y DESARROLLO DE SOFTWARE</td>\n",
              "      <td>SOFTWARE</td>\n",
              "    </tr>\n",
              "  </tbody>\n",
              "</table>\n",
              "</div>\n",
              "      <button class=\"colab-df-convert\" onclick=\"convertToInteractive('df-0fcadc65-bea3-4531-849e-fe24aafcd0aa')\"\n",
              "              title=\"Convert this dataframe to an interactive table.\"\n",
              "              style=\"display:none;\">\n",
              "        \n",
              "  <svg xmlns=\"http://www.w3.org/2000/svg\" height=\"24px\"viewBox=\"0 0 24 24\"\n",
              "       width=\"24px\">\n",
              "    <path d=\"M0 0h24v24H0V0z\" fill=\"none\"/>\n",
              "    <path d=\"M18.56 5.44l.94 2.06.94-2.06 2.06-.94-2.06-.94-.94-2.06-.94 2.06-2.06.94zm-11 1L8.5 8.5l.94-2.06 2.06-.94-2.06-.94L8.5 2.5l-.94 2.06-2.06.94zm10 10l.94 2.06.94-2.06 2.06-.94-2.06-.94-.94-2.06-.94 2.06-2.06.94z\"/><path d=\"M17.41 7.96l-1.37-1.37c-.4-.4-.92-.59-1.43-.59-.52 0-1.04.2-1.43.59L10.3 9.45l-7.72 7.72c-.78.78-.78 2.05 0 2.83L4 21.41c.39.39.9.59 1.41.59.51 0 1.02-.2 1.41-.59l7.78-7.78 2.81-2.81c.8-.78.8-2.07 0-2.86zM5.41 20L4 18.59l7.72-7.72 1.47 1.35L5.41 20z\"/>\n",
              "  </svg>\n",
              "      </button>\n",
              "      \n",
              "  <style>\n",
              "    .colab-df-container {\n",
              "      display:flex;\n",
              "      flex-wrap:wrap;\n",
              "      gap: 12px;\n",
              "    }\n",
              "\n",
              "    .colab-df-convert {\n",
              "      background-color: #E8F0FE;\n",
              "      border: none;\n",
              "      border-radius: 50%;\n",
              "      cursor: pointer;\n",
              "      display: none;\n",
              "      fill: #1967D2;\n",
              "      height: 32px;\n",
              "      padding: 0 0 0 0;\n",
              "      width: 32px;\n",
              "    }\n",
              "\n",
              "    .colab-df-convert:hover {\n",
              "      background-color: #E2EBFA;\n",
              "      box-shadow: 0px 1px 2px rgba(60, 64, 67, 0.3), 0px 1px 3px 1px rgba(60, 64, 67, 0.15);\n",
              "      fill: #174EA6;\n",
              "    }\n",
              "\n",
              "    [theme=dark] .colab-df-convert {\n",
              "      background-color: #3B4455;\n",
              "      fill: #D2E3FC;\n",
              "    }\n",
              "\n",
              "    [theme=dark] .colab-df-convert:hover {\n",
              "      background-color: #434B5C;\n",
              "      box-shadow: 0px 1px 3px 1px rgba(0, 0, 0, 0.15);\n",
              "      filter: drop-shadow(0px 1px 2px rgba(0, 0, 0, 0.3));\n",
              "      fill: #FFFFFF;\n",
              "    }\n",
              "  </style>\n",
              "\n",
              "      <script>\n",
              "        const buttonEl =\n",
              "          document.querySelector('#df-0fcadc65-bea3-4531-849e-fe24aafcd0aa button.colab-df-convert');\n",
              "        buttonEl.style.display =\n",
              "          google.colab.kernel.accessAllowed ? 'block' : 'none';\n",
              "\n",
              "        async function convertToInteractive(key) {\n",
              "          const element = document.querySelector('#df-0fcadc65-bea3-4531-849e-fe24aafcd0aa');\n",
              "          const dataTable =\n",
              "            await google.colab.kernel.invokeFunction('convertToInteractive',\n",
              "                                                     [key], {});\n",
              "          if (!dataTable) return;\n",
              "\n",
              "          const docLinkHtml = 'Like what you see? Visit the ' +\n",
              "            '<a target=\"_blank\" href=https://colab.research.google.com/notebooks/data_table.ipynb>data table notebook</a>'\n",
              "            + ' to learn more about interactive tables.';\n",
              "          element.innerHTML = '';\n",
              "          dataTable['output_type'] = 'display_data';\n",
              "          await google.colab.output.renderOutput(dataTable, element);\n",
              "          const docLink = document.createElement('div');\n",
              "          docLink.innerHTML = docLinkHtml;\n",
              "          element.appendChild(docLink);\n",
              "        }\n",
              "      </script>\n",
              "    </div>\n",
              "  </div>\n",
              "  "
            ]
          },
          "metadata": {},
          "execution_count": 15
        }
      ]
    },
    {
      "cell_type": "code",
      "source": [
        "historico = historico_completo[['Fecha de Registro', 'N° Cédula del Participante',\n",
        "       'Nombres y Apellidos del Participante','Entidad Capacitadora','Fecha Inicio Capacitación',\n",
        "       'Modalidad de Capacitación', 'Tipo de Capacitación','Clase de la Capacitación',\n",
        "       'Certificado','Justificación de inasistencia o no certificación','Código de Capacitación']]"
      ],
      "metadata": {
        "id": "IZfVW7snPNrO"
      },
      "id": "IZfVW7snPNrO",
      "execution_count": 16,
      "outputs": []
    },
    {
      "cell_type": "code",
      "source": [
        "historico.columns = ['FECHA_REGISTRO', 'DOCUMENTO', 'NOMBRE_INSTRUCTOR','ENTIDAD_CAPACITADORA', 'FECHA_INICIO_CAPACITACIÓN', 'MODALIDAD_CAPACITACIÓN', 'TIPO_CAPACITACIÓN', 'CLASE_CAPACITACIÓN', 'CERTIFICADO', 'JUSTIFICACIÓN', 'CÓDIGO_CAPACITACIÓN']"
      ],
      "metadata": {
        "id": "88sKvfXyAr3o"
      },
      "id": "88sKvfXyAr3o",
      "execution_count": 19,
      "outputs": []
    },
    {
      "cell_type": "code",
      "source": [
        "historico.sample(n=10)"
      ],
      "metadata": {
        "colab": {
          "base_uri": "https://localhost:8080/",
          "height": 895
        },
        "id": "v3nQtupzhowl",
        "outputId": "0eacc4fa-d4a4-48b8-9239-fc06f6d962be"
      },
      "id": "v3nQtupzhowl",
      "execution_count": 20,
      "outputs": [
        {
          "output_type": "execute_result",
          "data": {
            "text/plain": [
              "     FECHA_REGISTRO   DOCUMENTO            NOMBRE_INSTRUCTOR  \\\n",
              "545      2022-02-21  1090413416      Morantes Meza Jesualdo    \n",
              "4168     2022-05-10  1019030543  Lara Cuellar Andres Alberto   \n",
              "3774     2022-05-03  1067843241   Peralta Aleman Jorge Mario   \n",
              "2972     2022-04-21    38212954     Acuña Gomez Ana Carolina   \n",
              "2327     2022-04-04    39047849    Sonia Esther  Zapata Daza   \n",
              "4581     2022-05-16    80161863    Ostos Ramos Carlos Andres   \n",
              "5552     2022-06-17    43493332         Cruel Marin Luz Yeny   \n",
              "962      2022-03-10    52300817       Chia Cepeda Luz Carime   \n",
              "5230     2022-06-07    34981180    Haidy Isabel Duque Cuesta   \n",
              "5931     2022-06-18    91241521      PEDRO NEL CASTRO GOMEZ    \n",
              "\n",
              "                          ENTIDAD_CAPACITADORA FECHA_INICIO_CAPACITACIÓN  \\\n",
              "545   UNIVERSIDAD DE BOGOTÁ JORGE TADEO LOZANO                2022-02-28   \n",
              "4168                                      SENA                2022-05-10   \n",
              "3774                MELTEC COMUNICACIONES S.A.                2022-05-09   \n",
              "2972                                      SENA                2022-05-02   \n",
              "2327          UNIVERSIDAD NACIONAL DE COLOMBIA                2022-04-05   \n",
              "4581                                      SENA                2022-05-23   \n",
              "5552                                      SENA                2022-06-28   \n",
              "962                                       SENA                2022-03-28   \n",
              "5230                                      SENA                2022-05-31   \n",
              "5931                            SOLTECO S.A.S.                2022-06-21   \n",
              "\n",
              "     MODALIDAD_CAPACITACIÓN    TIPO_CAPACITACIÓN CLASE_CAPACITACIÓN  \\\n",
              "545    PRESENCIAL Y VIRTUAL              TÉCNICA              CURSO   \n",
              "4168   PRESENCIAL Y VIRTUAL           PEDAGÓGICA              CURSO   \n",
              "3774                VIRTUAL  CLAVE Y TRANSVERSAL              CURSO   \n",
              "2972             PRESENCIAL           PEDAGÓGICA              CURSO   \n",
              "2327                VIRTUAL  CLAVE Y TRANSVERSAL      TRANSFERENCIA   \n",
              "4581   PRESENCIAL Y VIRTUAL              TÉCNICA              CURSO   \n",
              "5552   PRESENCIAL Y VIRTUAL  CLAVE Y TRANSVERSAL              CURSO   \n",
              "962              PRESENCIAL              TÉCNICA              CURSO   \n",
              "5230   PRESENCIAL Y VIRTUAL  CLAVE Y TRANSVERSAL              CURSO   \n",
              "5931   PRESENCIAL Y VIRTUAL              TÉCNICA              CURSO   \n",
              "\n",
              "     CERTIFICADO JUSTIFICACIÓN  \\\n",
              "545           SI           NaN   \n",
              "4168         NaN           NaN   \n",
              "3774          SI           NaN   \n",
              "2972          SI           NaN   \n",
              "2327          SI           NaN   \n",
              "4581         NaN           NaN   \n",
              "5552         NaN           NaN   \n",
              "962           SI           NaN   \n",
              "5230         NaN           NaN   \n",
              "5931         NaN           NaN   \n",
              "\n",
              "                                    CÓDIGO_CAPACITACIÓN  \n",
              "545   TÉ280222 DISEÑO 4.0 MULTIMEDIA – INTRODUCCIÓN ...  \n",
              "4168  PE100522 INCORPORACIÓN DE ACTIVIDADES STEAM CO...  \n",
              "3774  CL090522 RUTA DE FORMACIÓN ENTRENAMIENTO HUAWE...  \n",
              "2972  PE020522 ACOMPAÑAMIENTO TÉCNICO-PEDAGÓGICO COM...  \n",
              "2327  CL050422 TRANSFERENCIA DE CONOCIMIENTO EN EL U...  \n",
              "4581  TÉ230522 DESARROLLO E INTEGRACIÓN DE AMBIENTES...  \n",
              "5552  280622 APLICACIÓN DE HERRAMIENTAS DE PENSAMIEN...  \n",
              "962   TÉ280322 APLICACIÓN DEL ENFOQUE DIFERENCIAL EN...  \n",
              "5230  310522 ORIENTACIÓN DE PROCESOS DE FORMACIÓN PA...  \n",
              "5931  210622 TRANSFERENCIA DE CONOCIMIENTO CREACIÓN ...  "
            ],
            "text/html": [
              "\n",
              "  <div id=\"df-a0419e7d-716b-49f9-b76f-35cc577cddfc\">\n",
              "    <div class=\"colab-df-container\">\n",
              "      <div>\n",
              "<style scoped>\n",
              "    .dataframe tbody tr th:only-of-type {\n",
              "        vertical-align: middle;\n",
              "    }\n",
              "\n",
              "    .dataframe tbody tr th {\n",
              "        vertical-align: top;\n",
              "    }\n",
              "\n",
              "    .dataframe thead th {\n",
              "        text-align: right;\n",
              "    }\n",
              "</style>\n",
              "<table border=\"1\" class=\"dataframe\">\n",
              "  <thead>\n",
              "    <tr style=\"text-align: right;\">\n",
              "      <th></th>\n",
              "      <th>FECHA_REGISTRO</th>\n",
              "      <th>DOCUMENTO</th>\n",
              "      <th>NOMBRE_INSTRUCTOR</th>\n",
              "      <th>ENTIDAD_CAPACITADORA</th>\n",
              "      <th>FECHA_INICIO_CAPACITACIÓN</th>\n",
              "      <th>MODALIDAD_CAPACITACIÓN</th>\n",
              "      <th>TIPO_CAPACITACIÓN</th>\n",
              "      <th>CLASE_CAPACITACIÓN</th>\n",
              "      <th>CERTIFICADO</th>\n",
              "      <th>JUSTIFICACIÓN</th>\n",
              "      <th>CÓDIGO_CAPACITACIÓN</th>\n",
              "    </tr>\n",
              "  </thead>\n",
              "  <tbody>\n",
              "    <tr>\n",
              "      <th>545</th>\n",
              "      <td>2022-02-21</td>\n",
              "      <td>1090413416</td>\n",
              "      <td>Morantes Meza Jesualdo</td>\n",
              "      <td>UNIVERSIDAD DE BOGOTÁ JORGE TADEO LOZANO</td>\n",
              "      <td>2022-02-28</td>\n",
              "      <td>PRESENCIAL Y VIRTUAL</td>\n",
              "      <td>TÉCNICA</td>\n",
              "      <td>CURSO</td>\n",
              "      <td>SI</td>\n",
              "      <td>NaN</td>\n",
              "      <td>TÉ280222 DISEÑO 4.0 MULTIMEDIA – INTRODUCCIÓN ...</td>\n",
              "    </tr>\n",
              "    <tr>\n",
              "      <th>4168</th>\n",
              "      <td>2022-05-10</td>\n",
              "      <td>1019030543</td>\n",
              "      <td>Lara Cuellar Andres Alberto</td>\n",
              "      <td>SENA</td>\n",
              "      <td>2022-05-10</td>\n",
              "      <td>PRESENCIAL Y VIRTUAL</td>\n",
              "      <td>PEDAGÓGICA</td>\n",
              "      <td>CURSO</td>\n",
              "      <td>NaN</td>\n",
              "      <td>NaN</td>\n",
              "      <td>PE100522 INCORPORACIÓN DE ACTIVIDADES STEAM CO...</td>\n",
              "    </tr>\n",
              "    <tr>\n",
              "      <th>3774</th>\n",
              "      <td>2022-05-03</td>\n",
              "      <td>1067843241</td>\n",
              "      <td>Peralta Aleman Jorge Mario</td>\n",
              "      <td>MELTEC COMUNICACIONES S.A.</td>\n",
              "      <td>2022-05-09</td>\n",
              "      <td>VIRTUAL</td>\n",
              "      <td>CLAVE Y TRANSVERSAL</td>\n",
              "      <td>CURSO</td>\n",
              "      <td>SI</td>\n",
              "      <td>NaN</td>\n",
              "      <td>CL090522 RUTA DE FORMACIÓN ENTRENAMIENTO HUAWE...</td>\n",
              "    </tr>\n",
              "    <tr>\n",
              "      <th>2972</th>\n",
              "      <td>2022-04-21</td>\n",
              "      <td>38212954</td>\n",
              "      <td>Acuña Gomez Ana Carolina</td>\n",
              "      <td>SENA</td>\n",
              "      <td>2022-05-02</td>\n",
              "      <td>PRESENCIAL</td>\n",
              "      <td>PEDAGÓGICA</td>\n",
              "      <td>CURSO</td>\n",
              "      <td>SI</td>\n",
              "      <td>NaN</td>\n",
              "      <td>PE020522 ACOMPAÑAMIENTO TÉCNICO-PEDAGÓGICO COM...</td>\n",
              "    </tr>\n",
              "    <tr>\n",
              "      <th>2327</th>\n",
              "      <td>2022-04-04</td>\n",
              "      <td>39047849</td>\n",
              "      <td>Sonia Esther  Zapata Daza</td>\n",
              "      <td>UNIVERSIDAD NACIONAL DE COLOMBIA</td>\n",
              "      <td>2022-04-05</td>\n",
              "      <td>VIRTUAL</td>\n",
              "      <td>CLAVE Y TRANSVERSAL</td>\n",
              "      <td>TRANSFERENCIA</td>\n",
              "      <td>SI</td>\n",
              "      <td>NaN</td>\n",
              "      <td>CL050422 TRANSFERENCIA DE CONOCIMIENTO EN EL U...</td>\n",
              "    </tr>\n",
              "    <tr>\n",
              "      <th>4581</th>\n",
              "      <td>2022-05-16</td>\n",
              "      <td>80161863</td>\n",
              "      <td>Ostos Ramos Carlos Andres</td>\n",
              "      <td>SENA</td>\n",
              "      <td>2022-05-23</td>\n",
              "      <td>PRESENCIAL Y VIRTUAL</td>\n",
              "      <td>TÉCNICA</td>\n",
              "      <td>CURSO</td>\n",
              "      <td>NaN</td>\n",
              "      <td>NaN</td>\n",
              "      <td>TÉ230522 DESARROLLO E INTEGRACIÓN DE AMBIENTES...</td>\n",
              "    </tr>\n",
              "    <tr>\n",
              "      <th>5552</th>\n",
              "      <td>2022-06-17</td>\n",
              "      <td>43493332</td>\n",
              "      <td>Cruel Marin Luz Yeny</td>\n",
              "      <td>SENA</td>\n",
              "      <td>2022-06-28</td>\n",
              "      <td>PRESENCIAL Y VIRTUAL</td>\n",
              "      <td>CLAVE Y TRANSVERSAL</td>\n",
              "      <td>CURSO</td>\n",
              "      <td>NaN</td>\n",
              "      <td>NaN</td>\n",
              "      <td>280622 APLICACIÓN DE HERRAMIENTAS DE PENSAMIEN...</td>\n",
              "    </tr>\n",
              "    <tr>\n",
              "      <th>962</th>\n",
              "      <td>2022-03-10</td>\n",
              "      <td>52300817</td>\n",
              "      <td>Chia Cepeda Luz Carime</td>\n",
              "      <td>SENA</td>\n",
              "      <td>2022-03-28</td>\n",
              "      <td>PRESENCIAL</td>\n",
              "      <td>TÉCNICA</td>\n",
              "      <td>CURSO</td>\n",
              "      <td>SI</td>\n",
              "      <td>NaN</td>\n",
              "      <td>TÉ280322 APLICACIÓN DEL ENFOQUE DIFERENCIAL EN...</td>\n",
              "    </tr>\n",
              "    <tr>\n",
              "      <th>5230</th>\n",
              "      <td>2022-06-07</td>\n",
              "      <td>34981180</td>\n",
              "      <td>Haidy Isabel Duque Cuesta</td>\n",
              "      <td>SENA</td>\n",
              "      <td>2022-05-31</td>\n",
              "      <td>PRESENCIAL Y VIRTUAL</td>\n",
              "      <td>CLAVE Y TRANSVERSAL</td>\n",
              "      <td>CURSO</td>\n",
              "      <td>NaN</td>\n",
              "      <td>NaN</td>\n",
              "      <td>310522 ORIENTACIÓN DE PROCESOS DE FORMACIÓN PA...</td>\n",
              "    </tr>\n",
              "    <tr>\n",
              "      <th>5931</th>\n",
              "      <td>2022-06-18</td>\n",
              "      <td>91241521</td>\n",
              "      <td>PEDRO NEL CASTRO GOMEZ</td>\n",
              "      <td>SOLTECO S.A.S.</td>\n",
              "      <td>2022-06-21</td>\n",
              "      <td>PRESENCIAL Y VIRTUAL</td>\n",
              "      <td>TÉCNICA</td>\n",
              "      <td>CURSO</td>\n",
              "      <td>NaN</td>\n",
              "      <td>NaN</td>\n",
              "      <td>210622 TRANSFERENCIA DE CONOCIMIENTO CREACIÓN ...</td>\n",
              "    </tr>\n",
              "  </tbody>\n",
              "</table>\n",
              "</div>\n",
              "      <button class=\"colab-df-convert\" onclick=\"convertToInteractive('df-a0419e7d-716b-49f9-b76f-35cc577cddfc')\"\n",
              "              title=\"Convert this dataframe to an interactive table.\"\n",
              "              style=\"display:none;\">\n",
              "        \n",
              "  <svg xmlns=\"http://www.w3.org/2000/svg\" height=\"24px\"viewBox=\"0 0 24 24\"\n",
              "       width=\"24px\">\n",
              "    <path d=\"M0 0h24v24H0V0z\" fill=\"none\"/>\n",
              "    <path d=\"M18.56 5.44l.94 2.06.94-2.06 2.06-.94-2.06-.94-.94-2.06-.94 2.06-2.06.94zm-11 1L8.5 8.5l.94-2.06 2.06-.94-2.06-.94L8.5 2.5l-.94 2.06-2.06.94zm10 10l.94 2.06.94-2.06 2.06-.94-2.06-.94-.94-2.06-.94 2.06-2.06.94z\"/><path d=\"M17.41 7.96l-1.37-1.37c-.4-.4-.92-.59-1.43-.59-.52 0-1.04.2-1.43.59L10.3 9.45l-7.72 7.72c-.78.78-.78 2.05 0 2.83L4 21.41c.39.39.9.59 1.41.59.51 0 1.02-.2 1.41-.59l7.78-7.78 2.81-2.81c.8-.78.8-2.07 0-2.86zM5.41 20L4 18.59l7.72-7.72 1.47 1.35L5.41 20z\"/>\n",
              "  </svg>\n",
              "      </button>\n",
              "      \n",
              "  <style>\n",
              "    .colab-df-container {\n",
              "      display:flex;\n",
              "      flex-wrap:wrap;\n",
              "      gap: 12px;\n",
              "    }\n",
              "\n",
              "    .colab-df-convert {\n",
              "      background-color: #E8F0FE;\n",
              "      border: none;\n",
              "      border-radius: 50%;\n",
              "      cursor: pointer;\n",
              "      display: none;\n",
              "      fill: #1967D2;\n",
              "      height: 32px;\n",
              "      padding: 0 0 0 0;\n",
              "      width: 32px;\n",
              "    }\n",
              "\n",
              "    .colab-df-convert:hover {\n",
              "      background-color: #E2EBFA;\n",
              "      box-shadow: 0px 1px 2px rgba(60, 64, 67, 0.3), 0px 1px 3px 1px rgba(60, 64, 67, 0.15);\n",
              "      fill: #174EA6;\n",
              "    }\n",
              "\n",
              "    [theme=dark] .colab-df-convert {\n",
              "      background-color: #3B4455;\n",
              "      fill: #D2E3FC;\n",
              "    }\n",
              "\n",
              "    [theme=dark] .colab-df-convert:hover {\n",
              "      background-color: #434B5C;\n",
              "      box-shadow: 0px 1px 3px 1px rgba(0, 0, 0, 0.15);\n",
              "      filter: drop-shadow(0px 1px 2px rgba(0, 0, 0, 0.3));\n",
              "      fill: #FFFFFF;\n",
              "    }\n",
              "  </style>\n",
              "\n",
              "      <script>\n",
              "        const buttonEl =\n",
              "          document.querySelector('#df-a0419e7d-716b-49f9-b76f-35cc577cddfc button.colab-df-convert');\n",
              "        buttonEl.style.display =\n",
              "          google.colab.kernel.accessAllowed ? 'block' : 'none';\n",
              "\n",
              "        async function convertToInteractive(key) {\n",
              "          const element = document.querySelector('#df-a0419e7d-716b-49f9-b76f-35cc577cddfc');\n",
              "          const dataTable =\n",
              "            await google.colab.kernel.invokeFunction('convertToInteractive',\n",
              "                                                     [key], {});\n",
              "          if (!dataTable) return;\n",
              "\n",
              "          const docLinkHtml = 'Like what you see? Visit the ' +\n",
              "            '<a target=\"_blank\" href=https://colab.research.google.com/notebooks/data_table.ipynb>data table notebook</a>'\n",
              "            + ' to learn more about interactive tables.';\n",
              "          element.innerHTML = '';\n",
              "          dataTable['output_type'] = 'display_data';\n",
              "          await google.colab.output.renderOutput(dataTable, element);\n",
              "          const docLink = document.createElement('div');\n",
              "          docLink.innerHTML = docLinkHtml;\n",
              "          element.appendChild(docLink);\n",
              "        }\n",
              "      </script>\n",
              "    </div>\n",
              "  </div>\n",
              "  "
            ]
          },
          "metadata": {},
          "execution_count": 20
        }
      ]
    },
    {
      "cell_type": "code",
      "source": [
        "historico.loc[2251,'CERTIFICADO']"
      ],
      "metadata": {
        "colab": {
          "base_uri": "https://localhost:8080/",
          "height": 36
        },
        "id": "73VsDJXoZC2o",
        "outputId": "a39c532a-482f-4988-ea20-d68b5dc5358f"
      },
      "id": "73VsDJXoZC2o",
      "execution_count": 21,
      "outputs": [
        {
          "output_type": "execute_result",
          "data": {
            "text/plain": [
              "'NO'"
            ],
            "application/vnd.google.colaboratory.intrinsic+json": {
              "type": "string"
            }
          },
          "metadata": {},
          "execution_count": 21
        }
      ]
    },
    {
      "cell_type": "markdown",
      "source": [
        "#**4. Tratamiento de datos faltantes e igualar entradas**"
      ],
      "metadata": {
        "id": "KnPgSXik7ung"
      },
      "id": "KnPgSXik7ung"
    },
    {
      "cell_type": "code",
      "source": [
        "alfabetico.isnull().value_counts()"
      ],
      "metadata": {
        "colab": {
          "base_uri": "https://localhost:8080/"
        },
        "id": "vn1sitvo1LPT",
        "outputId": "17de4add-58d9-45bc-adf4-758b845d4925"
      },
      "id": "vn1sitvo1LPT",
      "execution_count": 22,
      "outputs": [
        {
          "output_type": "execute_result",
          "data": {
            "text/plain": [
              "DOCUMENTO  NOMBRE_INSTRUCTOR  COD_REGIONAL  REGIONAL  COD_CENTRO_FORMACIÓN  CENTRO_FORMACIÓN  GRADO_INSTRUCTOR  SEXO   TIPO_VINCULACIÓN  RED_CONOCIMIENTO  AREA_TEMÁTICA\n",
              "False      False              False         False     False                 False             False             False  False             False             False            6089\n",
              "dtype: int64"
            ]
          },
          "metadata": {},
          "execution_count": 22
        }
      ]
    },
    {
      "cell_type": "code",
      "source": [
        "historico['DOCUMENTO'].isnull().value_counts()"
      ],
      "metadata": {
        "colab": {
          "base_uri": "https://localhost:8080/"
        },
        "id": "v1VH1jNI1gDz",
        "outputId": "aa53a585-8f67-4209-ba4b-527b8f302eeb"
      },
      "id": "v1VH1jNI1gDz",
      "execution_count": 23,
      "outputs": [
        {
          "output_type": "execute_result",
          "data": {
            "text/plain": [
              "False    7240\n",
              "True      147\n",
              "Name: DOCUMENTO, dtype: int64"
            ]
          },
          "metadata": {},
          "execution_count": 23
        }
      ]
    },
    {
      "cell_type": "code",
      "source": [
        "for columna in list(historico.columns):\n",
        "  print('\\033[1m' + columna + '\\033[0m \\n' + str(historico[columna].isnull().value_counts()) + '\\n')"
      ],
      "metadata": {
        "colab": {
          "base_uri": "https://localhost:8080/"
        },
        "id": "01kcqhBosuMh",
        "outputId": "71c1fb1a-e454-4c07-82e1-3013602cfbb6"
      },
      "id": "01kcqhBosuMh",
      "execution_count": 28,
      "outputs": [
        {
          "output_type": "stream",
          "name": "stdout",
          "text": [
            "\u001b[1mFECHA_REGISTRO\u001b[0m \n",
            "False    7240\n",
            "Name: FECHA_REGISTRO, dtype: int64\n",
            "\n",
            "\u001b[1mDOCUMENTO\u001b[0m \n",
            "False    7240\n",
            "Name: DOCUMENTO, dtype: int64\n",
            "\n",
            "\u001b[1mNOMBRE_INSTRUCTOR\u001b[0m \n",
            "False    7240\n",
            "Name: NOMBRE_INSTRUCTOR, dtype: int64\n",
            "\n",
            "\u001b[1mENTIDAD_CAPACITADORA\u001b[0m \n",
            "False    7240\n",
            "Name: ENTIDAD_CAPACITADORA, dtype: int64\n",
            "\n",
            "\u001b[1mFECHA_INICIO_CAPACITACIÓN\u001b[0m \n",
            "False    7240\n",
            "Name: FECHA_INICIO_CAPACITACIÓN, dtype: int64\n",
            "\n",
            "\u001b[1mMODALIDAD_CAPACITACIÓN\u001b[0m \n",
            "False    7240\n",
            "Name: MODALIDAD_CAPACITACIÓN, dtype: int64\n",
            "\n",
            "\u001b[1mTIPO_CAPACITACIÓN\u001b[0m \n",
            "False    7240\n",
            "Name: TIPO_CAPACITACIÓN, dtype: int64\n",
            "\n",
            "\u001b[1mCLASE_CAPACITACIÓN\u001b[0m \n",
            "False    7240\n",
            "Name: CLASE_CAPACITACIÓN, dtype: int64\n",
            "\n",
            "\u001b[1mCERTIFICADO\u001b[0m \n",
            "False    7240\n",
            "Name: CERTIFICADO, dtype: int64\n",
            "\n",
            "\u001b[1mJUSTIFICACIÓN\u001b[0m \n",
            "True     6654\n",
            "False     586\n",
            "Name: JUSTIFICACIÓN, dtype: int64\n",
            "\n",
            "\u001b[1mCÓDIGO_CAPACITACIÓN\u001b[0m \n",
            "False    7240\n",
            "Name: CÓDIGO_CAPACITACIÓN, dtype: int64\n",
            "\n"
          ]
        }
      ]
    },
    {
      "cell_type": "code",
      "source": [
        "#Filtra las filas sin registro de 'DOCUMENTO'\n",
        "historico.dropna(subset=['DOCUMENTO'], axis=0, inplace=True)"
      ],
      "metadata": {
        "colab": {
          "base_uri": "https://localhost:8080/"
        },
        "id": "kslpNztd2GKq",
        "outputId": "a9bbe399-55af-4c4e-fff0-97ac427c6025"
      },
      "id": "kslpNztd2GKq",
      "execution_count": 36,
      "outputs": [
        {
          "output_type": "stream",
          "name": "stderr",
          "text": [
            "/usr/local/lib/python3.7/dist-packages/pandas/util/_decorators.py:311: SettingWithCopyWarning: \n",
            "A value is trying to be set on a copy of a slice from a DataFrame\n",
            "\n",
            "See the caveats in the documentation: https://pandas.pydata.org/pandas-docs/stable/user_guide/indexing.html#returning-a-view-versus-a-copy\n",
            "  return func(*args, **kwargs)\n"
          ]
        }
      ]
    },
    {
      "cell_type": "code",
      "source": [
        "import numpy as np\n",
        "\n",
        "#Reemplaza los valores faltantes por 'SIN EVIDENCIA' de certificación\n",
        "historico['CERTIFICADO'].replace(np.nan,'SIN EVIDENCIA', inplace=True)"
      ],
      "metadata": {
        "colab": {
          "base_uri": "https://localhost:8080/"
        },
        "id": "NS2FpQ1X9nlC",
        "outputId": "a90fde46-f306-469c-ca82-9729b46e1107"
      },
      "id": "NS2FpQ1X9nlC",
      "execution_count": 37,
      "outputs": [
        {
          "output_type": "stream",
          "name": "stderr",
          "text": [
            "/usr/local/lib/python3.7/dist-packages/pandas/core/generic.py:6619: SettingWithCopyWarning: \n",
            "A value is trying to be set on a copy of a slice from a DataFrame\n",
            "\n",
            "See the caveats in the documentation: https://pandas.pydata.org/pandas-docs/stable/user_guide/indexing.html#returning-a-view-versus-a-copy\n",
            "  return self._update_inplace(result)\n"
          ]
        }
      ]
    },
    {
      "cell_type": "code",
      "source": [
        "historico['CERTIFICADO'].value_counts()"
      ],
      "metadata": {
        "colab": {
          "base_uri": "https://localhost:8080/"
        },
        "id": "bySQGd_WsPUp",
        "outputId": "a910443d-e442-4e47-b599-a36705bd314b"
      },
      "id": "bySQGd_WsPUp",
      "execution_count": 40,
      "outputs": [
        {
          "output_type": "execute_result",
          "data": {
            "text/plain": [
              "SIN EVIDENCIA    4516\n",
              "SI               2133\n",
              "NO                591\n",
              "Name: CERTIFICADO, dtype: int64"
            ]
          },
          "metadata": {},
          "execution_count": 40
        }
      ]
    },
    {
      "cell_type": "code",
      "source": [
        "def cambio(cert):\n",
        "  if cert == 'SI ':\n",
        "    cert = 'SI'\n",
        "  elif cert == 'Si':\n",
        "    cert = 'SI'\n",
        "  elif cert == 'sI':\n",
        "    cert = 'SI'\n",
        "\n",
        "cambio('si')"
      ],
      "metadata": {
        "id": "Q9Jlvh6t6k_b"
      },
      "id": "Q9Jlvh6t6k_b",
      "execution_count": null,
      "outputs": []
    },
    {
      "cell_type": "code",
      "source": [
        "#Unifica todos los registros de 'SI'\n",
        "historico.loc[(historico['CERTIFICADO']=='SI ') | (historico['CERTIFICADO']=='Si') | (historico['CERTIFICADO']=='sI'),'CERTIFICADO'] = 'SI'"
      ],
      "metadata": {
        "colab": {
          "base_uri": "https://localhost:8080/"
        },
        "id": "z475LGVrFD63",
        "outputId": "eec35d4e-1a36-4e49-b938-a6b3efa21f94"
      },
      "id": "z475LGVrFD63",
      "execution_count": 39,
      "outputs": [
        {
          "output_type": "stream",
          "name": "stderr",
          "text": [
            "/usr/local/lib/python3.7/dist-packages/pandas/core/indexing.py:1817: SettingWithCopyWarning: \n",
            "A value is trying to be set on a copy of a slice from a DataFrame.\n",
            "Try using .loc[row_indexer,col_indexer] = value instead\n",
            "\n",
            "See the caveats in the documentation: https://pandas.pydata.org/pandas-docs/stable/user_guide/indexing.html#returning-a-view-versus-a-copy\n",
            "  self._setitem_single_column(loc, value, pi)\n"
          ]
        }
      ]
    },
    {
      "cell_type": "code",
      "source": [
        "historico['JUSTIFICACIÓN'].isnull()"
      ],
      "metadata": {
        "colab": {
          "base_uri": "https://localhost:8080/"
        },
        "id": "sa8p6Qlusmke",
        "outputId": "97209fab-27c7-4901-92c7-a6a179d322f8"
      },
      "id": "sa8p6Qlusmke",
      "execution_count": 34,
      "outputs": [
        {
          "output_type": "execute_result",
          "data": {
            "text/plain": [
              "0       True\n",
              "1       True\n",
              "2       True\n",
              "3       True\n",
              "4       True\n",
              "        ... \n",
              "7235    True\n",
              "7236    True\n",
              "7237    True\n",
              "7238    True\n",
              "7239    True\n",
              "Name: JUSTIFICACIÓN, Length: 7240, dtype: bool"
            ]
          },
          "metadata": {},
          "execution_count": 34
        }
      ]
    },
    {
      "cell_type": "code",
      "source": [
        "#Reemplaza registros - errores de digitación\n",
        "\n",
        "historico['JUSTIFICACIÓN'].replace('Razon Administrativa','Razón Administrativa',inplace=True)\n",
        "historico['JUSTIFICACIÓN'].replace('Calidad Doméstica','Calamidad Doméstica',inplace=True)"
      ],
      "metadata": {
        "colab": {
          "base_uri": "https://localhost:8080/"
        },
        "id": "0aQowcWaW3mq",
        "outputId": "ecf503dd-5905-4b71-c495-02b7ed5b1892"
      },
      "id": "0aQowcWaW3mq",
      "execution_count": 41,
      "outputs": [
        {
          "output_type": "stream",
          "name": "stderr",
          "text": [
            "/usr/local/lib/python3.7/dist-packages/pandas/core/generic.py:6619: SettingWithCopyWarning: \n",
            "A value is trying to be set on a copy of a slice from a DataFrame\n",
            "\n",
            "See the caveats in the documentation: https://pandas.pydata.org/pandas-docs/stable/user_guide/indexing.html#returning-a-view-versus-a-copy\n",
            "  return self._update_inplace(result)\n"
          ]
        }
      ]
    },
    {
      "cell_type": "code",
      "source": [
        "#Los 'NO' certificados que no tienen justificación\n",
        "historico.loc[(historico['CERTIFICADO']=='NO') & (historico['JUSTIFICACIÓN'].isnull()),'JUSTIFICACIÓN'] = \"Sin justificación\"\n",
        "#historico['JUSTIFICACIÓN'] = np.where((historico['CERTIFICADO']=='NO') & (historico['JUSTIFICACIÓN'].isnull), \"Sin justificación\", historico['JUSTIFICACIÓN'])"
      ],
      "metadata": {
        "colab": {
          "base_uri": "https://localhost:8080/"
        },
        "id": "H32vi8Cr2_L8",
        "outputId": "2cb530d7-95ba-4f36-ac08-4be5a28f4f8b"
      },
      "id": "H32vi8Cr2_L8",
      "execution_count": 42,
      "outputs": [
        {
          "output_type": "stream",
          "name": "stderr",
          "text": [
            "/usr/local/lib/python3.7/dist-packages/pandas/core/indexing.py:1817: SettingWithCopyWarning: \n",
            "A value is trying to be set on a copy of a slice from a DataFrame.\n",
            "Try using .loc[row_indexer,col_indexer] = value instead\n",
            "\n",
            "See the caveats in the documentation: https://pandas.pydata.org/pandas-docs/stable/user_guide/indexing.html#returning-a-view-versus-a-copy\n",
            "  self._setitem_single_column(loc, value, pi)\n"
          ]
        }
      ]
    },
    {
      "cell_type": "code",
      "source": [
        "#Reemplaza valores faltantes\n",
        "historico['JUSTIFICACIÓN'].replace(np.nan,'No aplica',inplace=True)"
      ],
      "metadata": {
        "colab": {
          "base_uri": "https://localhost:8080/"
        },
        "id": "8DRkQgVcMSRG",
        "outputId": "62f5c46b-8c0a-4880-d010-d413b4c8b312"
      },
      "id": "8DRkQgVcMSRG",
      "execution_count": 43,
      "outputs": [
        {
          "output_type": "stream",
          "name": "stderr",
          "text": [
            "/usr/local/lib/python3.7/dist-packages/pandas/core/generic.py:6619: SettingWithCopyWarning: \n",
            "A value is trying to be set on a copy of a slice from a DataFrame\n",
            "\n",
            "See the caveats in the documentation: https://pandas.pydata.org/pandas-docs/stable/user_guide/indexing.html#returning-a-view-versus-a-copy\n",
            "  return self._update_inplace(result)\n"
          ]
        }
      ]
    },
    {
      "cell_type": "code",
      "source": [
        "#Reemplaza espacios en blanco ('\\xa0')\n",
        "historico.loc[historico['JUSTIFICACIÓN'] == '\\xa0', 'JUSTIFICACIÓN'] = 'No aplica'"
      ],
      "metadata": {
        "colab": {
          "base_uri": "https://localhost:8080/"
        },
        "id": "DKF8__r_N_pc",
        "outputId": "c572a3f7-70b9-4e02-d5fa-7311cbef819b"
      },
      "id": "DKF8__r_N_pc",
      "execution_count": 45,
      "outputs": [
        {
          "output_type": "stream",
          "name": "stderr",
          "text": [
            "/usr/local/lib/python3.7/dist-packages/pandas/core/indexing.py:1817: SettingWithCopyWarning: \n",
            "A value is trying to be set on a copy of a slice from a DataFrame.\n",
            "Try using .loc[row_indexer,col_indexer] = value instead\n",
            "\n",
            "See the caveats in the documentation: https://pandas.pydata.org/pandas-docs/stable/user_guide/indexing.html#returning-a-view-versus-a-copy\n",
            "  self._setitem_single_column(loc, value, pi)\n"
          ]
        }
      ]
    },
    {
      "cell_type": "code",
      "source": [
        "historico[historico['JUSTIFICACIÓN'] == '\\xa0']"
      ],
      "metadata": {
        "id": "Fk1L6DqTOoOv",
        "colab": {
          "base_uri": "https://localhost:8080/",
          "height": 93
        },
        "outputId": "fa8384a2-f3ed-4681-bb18-08db18a40b63"
      },
      "id": "Fk1L6DqTOoOv",
      "execution_count": 46,
      "outputs": [
        {
          "output_type": "execute_result",
          "data": {
            "text/plain": [
              "Empty DataFrame\n",
              "Columns: [FECHA_REGISTRO, DOCUMENTO, NOMBRE_INSTRUCTOR, ENTIDAD_CAPACITADORA, FECHA_INICIO_CAPACITACIÓN, MODALIDAD_CAPACITACIÓN, TIPO_CAPACITACIÓN, CLASE_CAPACITACIÓN, CERTIFICADO, JUSTIFICACIÓN, CÓDIGO_CAPACITACIÓN]\n",
              "Index: []"
            ],
            "text/html": [
              "\n",
              "  <div id=\"df-48c6cb71-0357-4f5f-b8ff-5a872ef564f4\">\n",
              "    <div class=\"colab-df-container\">\n",
              "      <div>\n",
              "<style scoped>\n",
              "    .dataframe tbody tr th:only-of-type {\n",
              "        vertical-align: middle;\n",
              "    }\n",
              "\n",
              "    .dataframe tbody tr th {\n",
              "        vertical-align: top;\n",
              "    }\n",
              "\n",
              "    .dataframe thead th {\n",
              "        text-align: right;\n",
              "    }\n",
              "</style>\n",
              "<table border=\"1\" class=\"dataframe\">\n",
              "  <thead>\n",
              "    <tr style=\"text-align: right;\">\n",
              "      <th></th>\n",
              "      <th>FECHA_REGISTRO</th>\n",
              "      <th>DOCUMENTO</th>\n",
              "      <th>NOMBRE_INSTRUCTOR</th>\n",
              "      <th>ENTIDAD_CAPACITADORA</th>\n",
              "      <th>FECHA_INICIO_CAPACITACIÓN</th>\n",
              "      <th>MODALIDAD_CAPACITACIÓN</th>\n",
              "      <th>TIPO_CAPACITACIÓN</th>\n",
              "      <th>CLASE_CAPACITACIÓN</th>\n",
              "      <th>CERTIFICADO</th>\n",
              "      <th>JUSTIFICACIÓN</th>\n",
              "      <th>CÓDIGO_CAPACITACIÓN</th>\n",
              "    </tr>\n",
              "  </thead>\n",
              "  <tbody>\n",
              "  </tbody>\n",
              "</table>\n",
              "</div>\n",
              "      <button class=\"colab-df-convert\" onclick=\"convertToInteractive('df-48c6cb71-0357-4f5f-b8ff-5a872ef564f4')\"\n",
              "              title=\"Convert this dataframe to an interactive table.\"\n",
              "              style=\"display:none;\">\n",
              "        \n",
              "  <svg xmlns=\"http://www.w3.org/2000/svg\" height=\"24px\"viewBox=\"0 0 24 24\"\n",
              "       width=\"24px\">\n",
              "    <path d=\"M0 0h24v24H0V0z\" fill=\"none\"/>\n",
              "    <path d=\"M18.56 5.44l.94 2.06.94-2.06 2.06-.94-2.06-.94-.94-2.06-.94 2.06-2.06.94zm-11 1L8.5 8.5l.94-2.06 2.06-.94-2.06-.94L8.5 2.5l-.94 2.06-2.06.94zm10 10l.94 2.06.94-2.06 2.06-.94-2.06-.94-.94-2.06-.94 2.06-2.06.94z\"/><path d=\"M17.41 7.96l-1.37-1.37c-.4-.4-.92-.59-1.43-.59-.52 0-1.04.2-1.43.59L10.3 9.45l-7.72 7.72c-.78.78-.78 2.05 0 2.83L4 21.41c.39.39.9.59 1.41.59.51 0 1.02-.2 1.41-.59l7.78-7.78 2.81-2.81c.8-.78.8-2.07 0-2.86zM5.41 20L4 18.59l7.72-7.72 1.47 1.35L5.41 20z\"/>\n",
              "  </svg>\n",
              "      </button>\n",
              "      \n",
              "  <style>\n",
              "    .colab-df-container {\n",
              "      display:flex;\n",
              "      flex-wrap:wrap;\n",
              "      gap: 12px;\n",
              "    }\n",
              "\n",
              "    .colab-df-convert {\n",
              "      background-color: #E8F0FE;\n",
              "      border: none;\n",
              "      border-radius: 50%;\n",
              "      cursor: pointer;\n",
              "      display: none;\n",
              "      fill: #1967D2;\n",
              "      height: 32px;\n",
              "      padding: 0 0 0 0;\n",
              "      width: 32px;\n",
              "    }\n",
              "\n",
              "    .colab-df-convert:hover {\n",
              "      background-color: #E2EBFA;\n",
              "      box-shadow: 0px 1px 2px rgba(60, 64, 67, 0.3), 0px 1px 3px 1px rgba(60, 64, 67, 0.15);\n",
              "      fill: #174EA6;\n",
              "    }\n",
              "\n",
              "    [theme=dark] .colab-df-convert {\n",
              "      background-color: #3B4455;\n",
              "      fill: #D2E3FC;\n",
              "    }\n",
              "\n",
              "    [theme=dark] .colab-df-convert:hover {\n",
              "      background-color: #434B5C;\n",
              "      box-shadow: 0px 1px 3px 1px rgba(0, 0, 0, 0.15);\n",
              "      filter: drop-shadow(0px 1px 2px rgba(0, 0, 0, 0.3));\n",
              "      fill: #FFFFFF;\n",
              "    }\n",
              "  </style>\n",
              "\n",
              "      <script>\n",
              "        const buttonEl =\n",
              "          document.querySelector('#df-48c6cb71-0357-4f5f-b8ff-5a872ef564f4 button.colab-df-convert');\n",
              "        buttonEl.style.display =\n",
              "          google.colab.kernel.accessAllowed ? 'block' : 'none';\n",
              "\n",
              "        async function convertToInteractive(key) {\n",
              "          const element = document.querySelector('#df-48c6cb71-0357-4f5f-b8ff-5a872ef564f4');\n",
              "          const dataTable =\n",
              "            await google.colab.kernel.invokeFunction('convertToInteractive',\n",
              "                                                     [key], {});\n",
              "          if (!dataTable) return;\n",
              "\n",
              "          const docLinkHtml = 'Like what you see? Visit the ' +\n",
              "            '<a target=\"_blank\" href=https://colab.research.google.com/notebooks/data_table.ipynb>data table notebook</a>'\n",
              "            + ' to learn more about interactive tables.';\n",
              "          element.innerHTML = '';\n",
              "          dataTable['output_type'] = 'display_data';\n",
              "          await google.colab.output.renderOutput(dataTable, element);\n",
              "          const docLink = document.createElement('div');\n",
              "          docLink.innerHTML = docLinkHtml;\n",
              "          element.appendChild(docLink);\n",
              "        }\n",
              "      </script>\n",
              "    </div>\n",
              "  </div>\n",
              "  "
            ]
          },
          "metadata": {},
          "execution_count": 46
        }
      ]
    },
    {
      "cell_type": "code",
      "source": [
        "historico[historico['CERTIFICADO'] == 'NO']['JUSTIFICACIÓN'].value_counts(dropna=False)"
      ],
      "metadata": {
        "colab": {
          "base_uri": "https://localhost:8080/"
        },
        "id": "S6gJQg0LoFb7",
        "outputId": "8a9a2cbd-9b8a-45cd-bbdf-5db1c92981e6"
      },
      "id": "S6gJQg0LoFb7",
      "execution_count": 47,
      "outputs": [
        {
          "output_type": "execute_result",
          "data": {
            "text/plain": [
              "Razón Administrativa    555\n",
              "Sin justificación        33\n",
              "Calamidad Doméstica       3\n",
              "Name: JUSTIFICACIÓN, dtype: int64"
            ]
          },
          "metadata": {},
          "execution_count": 47
        }
      ]
    },
    {
      "cell_type": "code",
      "source": [
        "historico['JUSTIFICACIÓN'].value_counts()"
      ],
      "metadata": {
        "colab": {
          "base_uri": "https://localhost:8080/"
        },
        "id": "GQPWjWq4MOcL",
        "outputId": "7e6ebbaa-7ce6-4bc9-fb77-6c0a8880bcce"
      },
      "id": "GQPWjWq4MOcL",
      "execution_count": 48,
      "outputs": [
        {
          "output_type": "execute_result",
          "data": {
            "text/plain": [
              "No aplica               6649\n",
              "Razón Administrativa     555\n",
              "Sin justificación         33\n",
              "Calamidad Doméstica        3\n",
              "Name: JUSTIFICACIÓN, dtype: int64"
            ]
          },
          "metadata": {},
          "execution_count": 48
        }
      ]
    },
    {
      "cell_type": "code",
      "source": [
        "historico.sample(n=5)"
      ],
      "metadata": {
        "colab": {
          "base_uri": "https://localhost:8080/",
          "height": 493
        },
        "id": "g52R914PdYgI",
        "outputId": "50c51324-da28-4f09-9e3a-ac59dc43b184"
      },
      "id": "g52R914PdYgI",
      "execution_count": 49,
      "outputs": [
        {
          "output_type": "execute_result",
          "data": {
            "text/plain": [
              "     FECHA_REGISTRO DOCUMENTO                  NOMBRE_INSTRUCTOR  \\\n",
              "6755     2022-07-13  77032447      Gonzalez Peralta Tomas Fabian   \n",
              "4142     2022-05-06  16834822           Moreno Carabali Walteiro   \n",
              "2318     2022-04-04  20654719        Dilsa Enith Triana Martinez   \n",
              "4799     2022-05-20  98400496  Betancourth Jurado Jorge Fernando   \n",
              "402      2022-02-15  43600922      Atehortua Zuleta Leidy Yulima   \n",
              "\n",
              "                   ENTIDAD_CAPACITADORA FECHA_INICIO_CAPACITACIÓN  \\\n",
              "6755                                UTO                2022-05-08   \n",
              "4142                               SENA                2022-05-02   \n",
              "2318   UNIVERSIDAD NACIONAL DE COLOMBIA                2022-04-05   \n",
              "4799              SENA - ACADEMIA CISCO                2022-07-19   \n",
              "402   FESTO - UNIVERSITARIA AGUSTINIANA                2022-03-02   \n",
              "\n",
              "     MODALIDAD_CAPACITACIÓN    TIPO_CAPACITACIÓN CLASE_CAPACITACIÓN  \\\n",
              "6755   PRESENCIAL Y VIRTUAL              TÉCNICA              CURSO   \n",
              "4142   PRESENCIAL Y VIRTUAL           PEDAGÓGICA              CURSO   \n",
              "2318                VIRTUAL  CLAVE Y TRANSVERSAL      TRANSFERENCIA   \n",
              "4799   PRESENCIAL Y VIRTUAL              TÉCNICA              CURSO   \n",
              "402    PRESENCIAL Y VIRTUAL              TÉCNICA              CURSO   \n",
              "\n",
              "        CERTIFICADO         JUSTIFICACIÓN  \\\n",
              "6755  SIN EVIDENCIA             No aplica   \n",
              "4142  SIN EVIDENCIA             No aplica   \n",
              "2318             NO  Razón Administrativa   \n",
              "4799  SIN EVIDENCIA             No aplica   \n",
              "402              SI             No aplica   \n",
              "\n",
              "                                    CÓDIGO_CAPACITACIÓN  \n",
              "6755  080522 SERVICIO TÉCNICO A EQUIPOS DE REFRIGERA...  \n",
              "4142  PE020522 IMPLEMENTACIÓN DE PROCESOS PEDAGÓGICO...  \n",
              "2318  CL050422 TRANSFERENCIA DE CONOCIMIENTO EN EL U...  \n",
              "4799  TÉ190722 CONV. # 2 RUTA DE ENTRENAMIENTO CISCO...  \n",
              "402   TÉ020322 METODOLOGÍAS ÁGILES EN LA GESTIÓN DE ...  "
            ],
            "text/html": [
              "\n",
              "  <div id=\"df-89108edf-bc15-4524-9543-e3582b3e4896\">\n",
              "    <div class=\"colab-df-container\">\n",
              "      <div>\n",
              "<style scoped>\n",
              "    .dataframe tbody tr th:only-of-type {\n",
              "        vertical-align: middle;\n",
              "    }\n",
              "\n",
              "    .dataframe tbody tr th {\n",
              "        vertical-align: top;\n",
              "    }\n",
              "\n",
              "    .dataframe thead th {\n",
              "        text-align: right;\n",
              "    }\n",
              "</style>\n",
              "<table border=\"1\" class=\"dataframe\">\n",
              "  <thead>\n",
              "    <tr style=\"text-align: right;\">\n",
              "      <th></th>\n",
              "      <th>FECHA_REGISTRO</th>\n",
              "      <th>DOCUMENTO</th>\n",
              "      <th>NOMBRE_INSTRUCTOR</th>\n",
              "      <th>ENTIDAD_CAPACITADORA</th>\n",
              "      <th>FECHA_INICIO_CAPACITACIÓN</th>\n",
              "      <th>MODALIDAD_CAPACITACIÓN</th>\n",
              "      <th>TIPO_CAPACITACIÓN</th>\n",
              "      <th>CLASE_CAPACITACIÓN</th>\n",
              "      <th>CERTIFICADO</th>\n",
              "      <th>JUSTIFICACIÓN</th>\n",
              "      <th>CÓDIGO_CAPACITACIÓN</th>\n",
              "    </tr>\n",
              "  </thead>\n",
              "  <tbody>\n",
              "    <tr>\n",
              "      <th>6755</th>\n",
              "      <td>2022-07-13</td>\n",
              "      <td>77032447</td>\n",
              "      <td>Gonzalez Peralta Tomas Fabian</td>\n",
              "      <td>UTO</td>\n",
              "      <td>2022-05-08</td>\n",
              "      <td>PRESENCIAL Y VIRTUAL</td>\n",
              "      <td>TÉCNICA</td>\n",
              "      <td>CURSO</td>\n",
              "      <td>SIN EVIDENCIA</td>\n",
              "      <td>No aplica</td>\n",
              "      <td>080522 SERVICIO TÉCNICO A EQUIPOS DE REFRIGERA...</td>\n",
              "    </tr>\n",
              "    <tr>\n",
              "      <th>4142</th>\n",
              "      <td>2022-05-06</td>\n",
              "      <td>16834822</td>\n",
              "      <td>Moreno Carabali Walteiro</td>\n",
              "      <td>SENA</td>\n",
              "      <td>2022-05-02</td>\n",
              "      <td>PRESENCIAL Y VIRTUAL</td>\n",
              "      <td>PEDAGÓGICA</td>\n",
              "      <td>CURSO</td>\n",
              "      <td>SIN EVIDENCIA</td>\n",
              "      <td>No aplica</td>\n",
              "      <td>PE020522 IMPLEMENTACIÓN DE PROCESOS PEDAGÓGICO...</td>\n",
              "    </tr>\n",
              "    <tr>\n",
              "      <th>2318</th>\n",
              "      <td>2022-04-04</td>\n",
              "      <td>20654719</td>\n",
              "      <td>Dilsa Enith Triana Martinez</td>\n",
              "      <td>UNIVERSIDAD NACIONAL DE COLOMBIA</td>\n",
              "      <td>2022-04-05</td>\n",
              "      <td>VIRTUAL</td>\n",
              "      <td>CLAVE Y TRANSVERSAL</td>\n",
              "      <td>TRANSFERENCIA</td>\n",
              "      <td>NO</td>\n",
              "      <td>Razón Administrativa</td>\n",
              "      <td>CL050422 TRANSFERENCIA DE CONOCIMIENTO EN EL U...</td>\n",
              "    </tr>\n",
              "    <tr>\n",
              "      <th>4799</th>\n",
              "      <td>2022-05-20</td>\n",
              "      <td>98400496</td>\n",
              "      <td>Betancourth Jurado Jorge Fernando</td>\n",
              "      <td>SENA - ACADEMIA CISCO</td>\n",
              "      <td>2022-07-19</td>\n",
              "      <td>PRESENCIAL Y VIRTUAL</td>\n",
              "      <td>TÉCNICA</td>\n",
              "      <td>CURSO</td>\n",
              "      <td>SIN EVIDENCIA</td>\n",
              "      <td>No aplica</td>\n",
              "      <td>TÉ190722 CONV. # 2 RUTA DE ENTRENAMIENTO CISCO...</td>\n",
              "    </tr>\n",
              "    <tr>\n",
              "      <th>402</th>\n",
              "      <td>2022-02-15</td>\n",
              "      <td>43600922</td>\n",
              "      <td>Atehortua Zuleta Leidy Yulima</td>\n",
              "      <td>FESTO - UNIVERSITARIA AGUSTINIANA</td>\n",
              "      <td>2022-03-02</td>\n",
              "      <td>PRESENCIAL Y VIRTUAL</td>\n",
              "      <td>TÉCNICA</td>\n",
              "      <td>CURSO</td>\n",
              "      <td>SI</td>\n",
              "      <td>No aplica</td>\n",
              "      <td>TÉ020322 METODOLOGÍAS ÁGILES EN LA GESTIÓN DE ...</td>\n",
              "    </tr>\n",
              "  </tbody>\n",
              "</table>\n",
              "</div>\n",
              "      <button class=\"colab-df-convert\" onclick=\"convertToInteractive('df-89108edf-bc15-4524-9543-e3582b3e4896')\"\n",
              "              title=\"Convert this dataframe to an interactive table.\"\n",
              "              style=\"display:none;\">\n",
              "        \n",
              "  <svg xmlns=\"http://www.w3.org/2000/svg\" height=\"24px\"viewBox=\"0 0 24 24\"\n",
              "       width=\"24px\">\n",
              "    <path d=\"M0 0h24v24H0V0z\" fill=\"none\"/>\n",
              "    <path d=\"M18.56 5.44l.94 2.06.94-2.06 2.06-.94-2.06-.94-.94-2.06-.94 2.06-2.06.94zm-11 1L8.5 8.5l.94-2.06 2.06-.94-2.06-.94L8.5 2.5l-.94 2.06-2.06.94zm10 10l.94 2.06.94-2.06 2.06-.94-2.06-.94-.94-2.06-.94 2.06-2.06.94z\"/><path d=\"M17.41 7.96l-1.37-1.37c-.4-.4-.92-.59-1.43-.59-.52 0-1.04.2-1.43.59L10.3 9.45l-7.72 7.72c-.78.78-.78 2.05 0 2.83L4 21.41c.39.39.9.59 1.41.59.51 0 1.02-.2 1.41-.59l7.78-7.78 2.81-2.81c.8-.78.8-2.07 0-2.86zM5.41 20L4 18.59l7.72-7.72 1.47 1.35L5.41 20z\"/>\n",
              "  </svg>\n",
              "      </button>\n",
              "      \n",
              "  <style>\n",
              "    .colab-df-container {\n",
              "      display:flex;\n",
              "      flex-wrap:wrap;\n",
              "      gap: 12px;\n",
              "    }\n",
              "\n",
              "    .colab-df-convert {\n",
              "      background-color: #E8F0FE;\n",
              "      border: none;\n",
              "      border-radius: 50%;\n",
              "      cursor: pointer;\n",
              "      display: none;\n",
              "      fill: #1967D2;\n",
              "      height: 32px;\n",
              "      padding: 0 0 0 0;\n",
              "      width: 32px;\n",
              "    }\n",
              "\n",
              "    .colab-df-convert:hover {\n",
              "      background-color: #E2EBFA;\n",
              "      box-shadow: 0px 1px 2px rgba(60, 64, 67, 0.3), 0px 1px 3px 1px rgba(60, 64, 67, 0.15);\n",
              "      fill: #174EA6;\n",
              "    }\n",
              "\n",
              "    [theme=dark] .colab-df-convert {\n",
              "      background-color: #3B4455;\n",
              "      fill: #D2E3FC;\n",
              "    }\n",
              "\n",
              "    [theme=dark] .colab-df-convert:hover {\n",
              "      background-color: #434B5C;\n",
              "      box-shadow: 0px 1px 3px 1px rgba(0, 0, 0, 0.15);\n",
              "      filter: drop-shadow(0px 1px 2px rgba(0, 0, 0, 0.3));\n",
              "      fill: #FFFFFF;\n",
              "    }\n",
              "  </style>\n",
              "\n",
              "      <script>\n",
              "        const buttonEl =\n",
              "          document.querySelector('#df-89108edf-bc15-4524-9543-e3582b3e4896 button.colab-df-convert');\n",
              "        buttonEl.style.display =\n",
              "          google.colab.kernel.accessAllowed ? 'block' : 'none';\n",
              "\n",
              "        async function convertToInteractive(key) {\n",
              "          const element = document.querySelector('#df-89108edf-bc15-4524-9543-e3582b3e4896');\n",
              "          const dataTable =\n",
              "            await google.colab.kernel.invokeFunction('convertToInteractive',\n",
              "                                                     [key], {});\n",
              "          if (!dataTable) return;\n",
              "\n",
              "          const docLinkHtml = 'Like what you see? Visit the ' +\n",
              "            '<a target=\"_blank\" href=https://colab.research.google.com/notebooks/data_table.ipynb>data table notebook</a>'\n",
              "            + ' to learn more about interactive tables.';\n",
              "          element.innerHTML = '';\n",
              "          dataTable['output_type'] = 'display_data';\n",
              "          await google.colab.output.renderOutput(dataTable, element);\n",
              "          const docLink = document.createElement('div');\n",
              "          docLink.innerHTML = docLinkHtml;\n",
              "          element.appendChild(docLink);\n",
              "        }\n",
              "      </script>\n",
              "    </div>\n",
              "  </div>\n",
              "  "
            ]
          },
          "metadata": {},
          "execution_count": 49
        }
      ]
    },
    {
      "cell_type": "markdown",
      "source": [
        "#**5. Conteo de capacitaciones por instructor**"
      ],
      "metadata": {
        "id": "DB7E3oMRAdg6"
      },
      "id": "DB7E3oMRAdg6"
    },
    {
      "cell_type": "code",
      "source": [
        "capacitaciones_instructor = historico['DOCUMENTO'].value_counts().to_frame()\n",
        "capacitaciones_instructor.reset_index(inplace=True)\n",
        "capacitaciones_instructor.columns=['DOCUMENTO','NÚMERO_CAPACITACIONES']\n",
        "capacitaciones_instructor"
      ],
      "metadata": {
        "colab": {
          "base_uri": "https://localhost:8080/",
          "height": 423
        },
        "id": "zpKcFQIaW9Z3",
        "outputId": "71263d5b-13ea-4d51-d8d6-28042550e0b1"
      },
      "id": "zpKcFQIaW9Z3",
      "execution_count": 52,
      "outputs": [
        {
          "output_type": "execute_result",
          "data": {
            "text/plain": [
              "       DOCUMENTO  NÚMERO_CAPACITACIONES\n",
              "0     1053824878                      6\n",
              "1       91222115                      6\n",
              "2       72428604                      5\n",
              "3       72254647                      5\n",
              "4     1116545677                      5\n",
              "...          ...                    ...\n",
              "5311    41906990                      1\n",
              "5312  1094880259                      1\n",
              "5313  1094880995                      1\n",
              "5314  1097400696                      1\n",
              "5315    30396585                      1\n",
              "\n",
              "[5316 rows x 2 columns]"
            ],
            "text/html": [
              "\n",
              "  <div id=\"df-38a598bb-e81b-4613-ad23-ead5ea052feb\">\n",
              "    <div class=\"colab-df-container\">\n",
              "      <div>\n",
              "<style scoped>\n",
              "    .dataframe tbody tr th:only-of-type {\n",
              "        vertical-align: middle;\n",
              "    }\n",
              "\n",
              "    .dataframe tbody tr th {\n",
              "        vertical-align: top;\n",
              "    }\n",
              "\n",
              "    .dataframe thead th {\n",
              "        text-align: right;\n",
              "    }\n",
              "</style>\n",
              "<table border=\"1\" class=\"dataframe\">\n",
              "  <thead>\n",
              "    <tr style=\"text-align: right;\">\n",
              "      <th></th>\n",
              "      <th>DOCUMENTO</th>\n",
              "      <th>NÚMERO_CAPACITACIONES</th>\n",
              "    </tr>\n",
              "  </thead>\n",
              "  <tbody>\n",
              "    <tr>\n",
              "      <th>0</th>\n",
              "      <td>1053824878</td>\n",
              "      <td>6</td>\n",
              "    </tr>\n",
              "    <tr>\n",
              "      <th>1</th>\n",
              "      <td>91222115</td>\n",
              "      <td>6</td>\n",
              "    </tr>\n",
              "    <tr>\n",
              "      <th>2</th>\n",
              "      <td>72428604</td>\n",
              "      <td>5</td>\n",
              "    </tr>\n",
              "    <tr>\n",
              "      <th>3</th>\n",
              "      <td>72254647</td>\n",
              "      <td>5</td>\n",
              "    </tr>\n",
              "    <tr>\n",
              "      <th>4</th>\n",
              "      <td>1116545677</td>\n",
              "      <td>5</td>\n",
              "    </tr>\n",
              "    <tr>\n",
              "      <th>...</th>\n",
              "      <td>...</td>\n",
              "      <td>...</td>\n",
              "    </tr>\n",
              "    <tr>\n",
              "      <th>5311</th>\n",
              "      <td>41906990</td>\n",
              "      <td>1</td>\n",
              "    </tr>\n",
              "    <tr>\n",
              "      <th>5312</th>\n",
              "      <td>1094880259</td>\n",
              "      <td>1</td>\n",
              "    </tr>\n",
              "    <tr>\n",
              "      <th>5313</th>\n",
              "      <td>1094880995</td>\n",
              "      <td>1</td>\n",
              "    </tr>\n",
              "    <tr>\n",
              "      <th>5314</th>\n",
              "      <td>1097400696</td>\n",
              "      <td>1</td>\n",
              "    </tr>\n",
              "    <tr>\n",
              "      <th>5315</th>\n",
              "      <td>30396585</td>\n",
              "      <td>1</td>\n",
              "    </tr>\n",
              "  </tbody>\n",
              "</table>\n",
              "<p>5316 rows × 2 columns</p>\n",
              "</div>\n",
              "      <button class=\"colab-df-convert\" onclick=\"convertToInteractive('df-38a598bb-e81b-4613-ad23-ead5ea052feb')\"\n",
              "              title=\"Convert this dataframe to an interactive table.\"\n",
              "              style=\"display:none;\">\n",
              "        \n",
              "  <svg xmlns=\"http://www.w3.org/2000/svg\" height=\"24px\"viewBox=\"0 0 24 24\"\n",
              "       width=\"24px\">\n",
              "    <path d=\"M0 0h24v24H0V0z\" fill=\"none\"/>\n",
              "    <path d=\"M18.56 5.44l.94 2.06.94-2.06 2.06-.94-2.06-.94-.94-2.06-.94 2.06-2.06.94zm-11 1L8.5 8.5l.94-2.06 2.06-.94-2.06-.94L8.5 2.5l-.94 2.06-2.06.94zm10 10l.94 2.06.94-2.06 2.06-.94-2.06-.94-.94-2.06-.94 2.06-2.06.94z\"/><path d=\"M17.41 7.96l-1.37-1.37c-.4-.4-.92-.59-1.43-.59-.52 0-1.04.2-1.43.59L10.3 9.45l-7.72 7.72c-.78.78-.78 2.05 0 2.83L4 21.41c.39.39.9.59 1.41.59.51 0 1.02-.2 1.41-.59l7.78-7.78 2.81-2.81c.8-.78.8-2.07 0-2.86zM5.41 20L4 18.59l7.72-7.72 1.47 1.35L5.41 20z\"/>\n",
              "  </svg>\n",
              "      </button>\n",
              "      \n",
              "  <style>\n",
              "    .colab-df-container {\n",
              "      display:flex;\n",
              "      flex-wrap:wrap;\n",
              "      gap: 12px;\n",
              "    }\n",
              "\n",
              "    .colab-df-convert {\n",
              "      background-color: #E8F0FE;\n",
              "      border: none;\n",
              "      border-radius: 50%;\n",
              "      cursor: pointer;\n",
              "      display: none;\n",
              "      fill: #1967D2;\n",
              "      height: 32px;\n",
              "      padding: 0 0 0 0;\n",
              "      width: 32px;\n",
              "    }\n",
              "\n",
              "    .colab-df-convert:hover {\n",
              "      background-color: #E2EBFA;\n",
              "      box-shadow: 0px 1px 2px rgba(60, 64, 67, 0.3), 0px 1px 3px 1px rgba(60, 64, 67, 0.15);\n",
              "      fill: #174EA6;\n",
              "    }\n",
              "\n",
              "    [theme=dark] .colab-df-convert {\n",
              "      background-color: #3B4455;\n",
              "      fill: #D2E3FC;\n",
              "    }\n",
              "\n",
              "    [theme=dark] .colab-df-convert:hover {\n",
              "      background-color: #434B5C;\n",
              "      box-shadow: 0px 1px 3px 1px rgba(0, 0, 0, 0.15);\n",
              "      filter: drop-shadow(0px 1px 2px rgba(0, 0, 0, 0.3));\n",
              "      fill: #FFFFFF;\n",
              "    }\n",
              "  </style>\n",
              "\n",
              "      <script>\n",
              "        const buttonEl =\n",
              "          document.querySelector('#df-38a598bb-e81b-4613-ad23-ead5ea052feb button.colab-df-convert');\n",
              "        buttonEl.style.display =\n",
              "          google.colab.kernel.accessAllowed ? 'block' : 'none';\n",
              "\n",
              "        async function convertToInteractive(key) {\n",
              "          const element = document.querySelector('#df-38a598bb-e81b-4613-ad23-ead5ea052feb');\n",
              "          const dataTable =\n",
              "            await google.colab.kernel.invokeFunction('convertToInteractive',\n",
              "                                                     [key], {});\n",
              "          if (!dataTable) return;\n",
              "\n",
              "          const docLinkHtml = 'Like what you see? Visit the ' +\n",
              "            '<a target=\"_blank\" href=https://colab.research.google.com/notebooks/data_table.ipynb>data table notebook</a>'\n",
              "            + ' to learn more about interactive tables.';\n",
              "          element.innerHTML = '';\n",
              "          dataTable['output_type'] = 'display_data';\n",
              "          await google.colab.output.renderOutput(dataTable, element);\n",
              "          const docLink = document.createElement('div');\n",
              "          docLink.innerHTML = docLinkHtml;\n",
              "          element.appendChild(docLink);\n",
              "        }\n",
              "      </script>\n",
              "    </div>\n",
              "  </div>\n",
              "  "
            ]
          },
          "metadata": {},
          "execution_count": 52
        }
      ]
    },
    {
      "cell_type": "code",
      "source": [
        "capacitaciones_instructor['DOCUMENTO']"
      ],
      "metadata": {
        "colab": {
          "base_uri": "https://localhost:8080/"
        },
        "id": "qIGORo8UvHM-",
        "outputId": "54241534-10ca-491d-cda9-d229353eb583"
      },
      "id": "qIGORo8UvHM-",
      "execution_count": 53,
      "outputs": [
        {
          "output_type": "execute_result",
          "data": {
            "text/plain": [
              "0       1053824878\n",
              "1         91222115\n",
              "2         72428604\n",
              "3         72254647\n",
              "4       1116545677\n",
              "           ...    \n",
              "5311      41906990\n",
              "5312    1094880259\n",
              "5313    1094880995\n",
              "5314    1097400696\n",
              "5315      30396585\n",
              "Name: DOCUMENTO, Length: 5316, dtype: object"
            ]
          },
          "metadata": {},
          "execution_count": 53
        }
      ]
    },
    {
      "cell_type": "code",
      "source": [
        "capacitaciones_instructor['DOCUMENTO_EDIT'] = ecapacitaciones_instructor['DOCUMENTO'].astype(str).str.replace(u'\\xa0', '')"
      ],
      "metadata": {
        "id": "UL0fz_oBw2nr"
      },
      "id": "UL0fz_oBw2nr",
      "execution_count": null,
      "outputs": []
    },
    {
      "cell_type": "code",
      "source": [
        "capacitaciones_instructor = capacitaciones_instructor.astype({\"DOCUMENTO\": int})"
      ],
      "metadata": {
        "id": "ehSv0WQNauW1"
      },
      "id": "ehSv0WQNauW1",
      "execution_count": null,
      "outputs": []
    },
    {
      "cell_type": "code",
      "execution_count": null,
      "id": "3872fb64-7f2e-42a9-9354-57f6821d2207",
      "metadata": {
        "id": "3872fb64-7f2e-42a9-9354-57f6821d2207",
        "outputId": "5be76dc6-718c-489c-c609-b7b87f56af7e",
        "colab": {
          "base_uri": "https://localhost:8080/"
        }
      },
      "outputs": [
        {
          "output_type": "stream",
          "name": "stdout",
          "text": [
            "<class 'pandas.core.frame.DataFrame'>\n",
            "RangeIndex: 5316 entries, 0 to 5315\n",
            "Data columns (total 2 columns):\n",
            " #   Column                 Non-Null Count  Dtype\n",
            "---  ------                 --------------  -----\n",
            " 0   DOCUMENTO              5316 non-null   int64\n",
            " 1   NÚMERO_CAPACITACIONES  5316 non-null   int64\n",
            "dtypes: int64(2)\n",
            "memory usage: 83.2 KB\n"
          ]
        }
      ],
      "source": [
        "capacitaciones_instructor.info()"
      ]
    },
    {
      "cell_type": "code",
      "source": [
        "capacitaciones_instructor['DOCUMENTO'].isnull().value_counts"
      ],
      "metadata": {
        "colab": {
          "base_uri": "https://localhost:8080/"
        },
        "id": "gWA-2BpRc8oo",
        "outputId": "9b8f730e-ddf7-433d-d207-7fbf7ebaf6bb"
      },
      "id": "gWA-2BpRc8oo",
      "execution_count": null,
      "outputs": [
        {
          "output_type": "execute_result",
          "data": {
            "text/plain": [
              "<bound method IndexOpsMixin.value_counts of 0       False\n",
              "1       False\n",
              "2       False\n",
              "3       False\n",
              "4       False\n",
              "        ...  \n",
              "5311    False\n",
              "5312    False\n",
              "5313    False\n",
              "5314    False\n",
              "5315    False\n",
              "Name: DOCUMENTO, Length: 5316, dtype: bool>"
            ]
          },
          "metadata": {},
          "execution_count": 419
        }
      ]
    }
  ],
  "metadata": {
    "colab": {
      "collapsed_sections": [],
      "name": "Histórico_ENI_2022.ipynb",
      "provenance": [],
      "include_colab_link": true
    },
    "kernelspec": {
      "display_name": "Python 3 (ipykernel)",
      "language": "python",
      "name": "python3"
    },
    "language_info": {
      "codemirror_mode": {
        "name": "ipython",
        "version": 3
      },
      "file_extension": ".py",
      "mimetype": "text/x-python",
      "name": "python",
      "nbconvert_exporter": "python",
      "pygments_lexer": "ipython3",
      "version": "3.9.12"
    }
  },
  "nbformat": 4,
  "nbformat_minor": 5
}